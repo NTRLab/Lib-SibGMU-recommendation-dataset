{
  "cells": [
    {
      "cell_type": "code",
      "source": [
        "!pip install fasttext"
      ],
      "metadata": {
        "colab": {
          "base_uri": "https://localhost:8080/"
        },
        "id": "nMhHnZAyp0SW",
        "outputId": "d42ffbb2-9201-4f1a-91b6-96c1f49bbb17"
      },
      "id": "nMhHnZAyp0SW",
      "execution_count": 50,
      "outputs": [
        {
          "output_type": "stream",
          "name": "stdout",
          "text": [
            "Looking in indexes: https://pypi.org/simple, https://us-python.pkg.dev/colab-wheels/public/simple/\n",
            "Requirement already satisfied: fasttext in /usr/local/lib/python3.7/dist-packages (0.9.2)\n",
            "Requirement already satisfied: setuptools>=0.7.0 in /usr/local/lib/python3.7/dist-packages (from fasttext) (57.4.0)\n",
            "Requirement already satisfied: numpy in /usr/local/lib/python3.7/dist-packages (from fasttext) (1.21.6)\n",
            "Requirement already satisfied: pybind11>=2.2 in /usr/local/lib/python3.7/dist-packages (from fasttext) (2.9.2)\n"
          ]
        }
      ]
    },
    {
      "cell_type": "code",
      "execution_count": 51,
      "id": "3529c84d-1e99-4cd8-ac88-a3889b5e90e1",
      "metadata": {
        "id": "3529c84d-1e99-4cd8-ac88-a3889b5e90e1"
      },
      "outputs": [],
      "source": [
        "import pickle\n",
        "import fasttext\n",
        "import numpy as np\n",
        "import pandas as pd\n",
        "\n",
        "from tqdm import tqdm\n",
        "from sklearn.cluster import KMeans\n",
        "from sklearn.metrics import silhouette_score"
      ]
    },
    {
      "cell_type": "markdown",
      "id": "971eceed-5e0b-4849-889f-65c4984ca7f1",
      "metadata": {
        "id": "971eceed-5e0b-4849-889f-65c4984ca7f1"
      },
      "source": [
        "## load data"
      ]
    },
    {
      "cell_type": "code",
      "execution_count": 52,
      "id": "6af4c2a6-2289-45d9-a5f6-0ae586305c8b",
      "metadata": {
        "id": "6af4c2a6-2289-45d9-a5f6-0ae586305c8b"
      },
      "outputs": [],
      "source": [
        "train = pd.read_csv('train.csv', index_col=False)\n",
        "test = pd.read_csv('test.csv', index_col=False)\n",
        "name_books = pd.read_csv('books.csv', index_col=False)\n",
        "medlib_df = pd.read_csv('medlib.csv')"
      ]
    },
    {
      "cell_type": "markdown",
      "source": [
        "###Fasttext train"
      ],
      "metadata": {
        "id": "4SsWwkQvrIBh"
      },
      "id": "4SsWwkQvrIBh"
    },
    {
      "cell_type": "code",
      "source": [
        "fasttext_filename_train = 'unsupervised_fasttext_train.txt'"
      ],
      "metadata": {
        "id": "CKxVNo0Gr-tM"
      },
      "id": "CKxVNo0Gr-tM",
      "execution_count": 53,
      "outputs": []
    },
    {
      "cell_type": "code",
      "source": [
        "# Remove users with only 1 book\n",
        "\n",
        "count_books = medlib_df.groupby('id').count()\n",
        "delete_users = count_books[count_books.id_book <= 1].index.tolist()\n",
        "medlib_df = medlib_df[~medlib_df.id.isin(delete_users)]"
      ],
      "metadata": {
        "id": "4N_PYK-gq461"
      },
      "id": "4N_PYK-gq461",
      "execution_count": 54,
      "outputs": []
    },
    {
      "cell_type": "code",
      "source": [
        "name_books.fillna('', inplace=True)\n",
        "name_books = name_books[name_books.id_book != '']\n",
        "name_books = name_books[name_books.name_book != '']\n",
        "name_books.name_book = name_books.name_book.apply(lambda x: x.lower())"
      ],
      "metadata": {
        "id": "1-g9yQQ2q0ep"
      },
      "id": "1-g9yQQ2q0ep",
      "execution_count": 55,
      "outputs": []
    },
    {
      "cell_type": "code",
      "source": [
        "books = []\n",
        "for user_id in tqdm(medlib_df.id.unique()):\n",
        "    book = ''\n",
        "    for book_id in medlib_df[medlib_df.id == user_id].id_book.values:\n",
        "        book_name = name_books[name_books.id_book == book_id].name_book.values\n",
        "        if len(book_name) > 0:\n",
        "            book += book_name[0].replace(' ', '').replace('[текст]', '').replace(':', '')\n",
        "            book += ' '\n",
        "    books.append(book)"
      ],
      "metadata": {
        "colab": {
          "base_uri": "https://localhost:8080/"
        },
        "id": "5eZ4LONUr1qY",
        "outputId": "dee08f22-290f-4dc8-97bc-835216385b60"
      },
      "id": "5eZ4LONUr1qY",
      "execution_count": 56,
      "outputs": [
        {
          "output_type": "stream",
          "name": "stderr",
          "text": [
            "100%|██████████| 6919/6919 [02:23<00:00, 48.27it/s]\n"
          ]
        }
      ]
    },
    {
      "cell_type": "code",
      "source": [
        "with open(fasttext_filename_train, 'w', encoding=\"utf-8\") as f:\n",
        "    for line in tqdm(books):\n",
        "        f.write(line)\n",
        "        f.write('\\n')"
      ],
      "metadata": {
        "colab": {
          "base_uri": "https://localhost:8080/"
        },
        "id": "cHtFrQQ3r8r8",
        "outputId": "08778290-01eb-4807-c607-2ce67fadab9c"
      },
      "id": "cHtFrQQ3r8r8",
      "execution_count": 57,
      "outputs": [
        {
          "output_type": "stream",
          "name": "stderr",
          "text": [
            "100%|██████████| 6919/6919 [00:00<00:00, 1028471.82it/s]\n"
          ]
        }
      ]
    },
    {
      "cell_type": "code",
      "source": [
        "model = fasttext.train_unsupervised(fasttext_filename_train,\n",
        "                                    dim=20)"
      ],
      "metadata": {
        "id": "m1KJlQzjsFSW"
      },
      "id": "m1KJlQzjsFSW",
      "execution_count": 58,
      "outputs": []
    },
    {
      "cell_type": "code",
      "source": [
        "model.save_model('ftext_unsupervised_20.bin')"
      ],
      "metadata": {
        "id": "d2vX3zxIsKAf"
      },
      "id": "d2vX3zxIsKAf",
      "execution_count": 59,
      "outputs": []
    },
    {
      "cell_type": "markdown",
      "id": "46e318fa-9f84-4881-b175-1ce0483320b2",
      "metadata": {
        "id": "46e318fa-9f84-4881-b175-1ce0483320b2"
      },
      "source": [
        "## Preprocessing"
      ]
    },
    {
      "cell_type": "code",
      "execution_count": 60,
      "id": "af5dff04-1f45-4b80-94cc-62c0e0c38737",
      "metadata": {
        "id": "af5dff04-1f45-4b80-94cc-62c0e0c38737"
      },
      "outputs": [],
      "source": [
        "name_books['preprocessed'] = name_books.name_book.apply(lambda x: ''.join(filter(str.isalpha, x.replace('[текст]', '').split(':')[0].split('.')[-1].strip())))"
      ]
    },
    {
      "cell_type": "code",
      "execution_count": 61,
      "id": "51cc7cc3-9c56-4bec-ba42-dfab85723c8b",
      "metadata": {
        "id": "51cc7cc3-9c56-4bec-ba42-dfab85723c8b"
      },
      "outputs": [],
      "source": [
        "test = test.sort_values(by=['id', 'date'])"
      ]
    },
    {
      "cell_type": "code",
      "execution_count": 62,
      "id": "0a19d9db-779a-48ea-a0b0-bde6a188d1a4",
      "metadata": {
        "id": "0a19d9db-779a-48ea-a0b0-bde6a188d1a4"
      },
      "outputs": [],
      "source": [
        "true_test = test.groupby('id').last().reset_index()\n",
        "history_test = test[~test.apply(tuple,1).isin(true_test.apply(tuple,1))]"
      ]
    },
    {
      "cell_type": "code",
      "execution_count": 63,
      "id": "ab682176-a067-4cde-ba93-6b459f9d3c37",
      "metadata": {
        "id": "ab682176-a067-4cde-ba93-6b459f9d3c37"
      },
      "outputs": [],
      "source": [
        "test = test.groupby('id').last().reset_index()"
      ]
    },
    {
      "cell_type": "code",
      "execution_count": 64,
      "id": "489dbc1e-9ee7-49d0-ac7e-d67e20ef6f3a",
      "metadata": {
        "id": "489dbc1e-9ee7-49d0-ac7e-d67e20ef6f3a",
        "outputId": "97939110-e389-4f38-850f-83c2b22b12e5",
        "colab": {
          "base_uri": "https://localhost:8080/"
        }
      },
      "outputs": [
        {
          "output_type": "stream",
          "name": "stdout",
          "text": [
            "CPU times: user 1min 22s, sys: 223 ms, total: 1min 22s\n",
            "Wall time: 1min 28s\n"
          ]
        }
      ],
      "source": [
        "%%time\n",
        "emb_train = []\n",
        "users = train.id.unique()\n",
        "for user in users:\n",
        "    emb_train.append(pd.merge(train[train.id == user], \n",
        "                              name_books[['id_book', 'preprocessed']], \n",
        "                              left_on='id_book', right_on='id_book', \n",
        "                              how='inner')['preprocessed'].unique().tolist())"
      ]
    },
    {
      "cell_type": "code",
      "execution_count": 65,
      "id": "8b31e21f-8c33-4a38-bb11-32758d622d16",
      "metadata": {
        "id": "8b31e21f-8c33-4a38-bb11-32758d622d16",
        "outputId": "bab6b8e9-7537-4ba5-dd5b-a23cfa72fe7c",
        "colab": {
          "base_uri": "https://localhost:8080/"
        }
      },
      "outputs": [
        {
          "output_type": "stream",
          "name": "stdout",
          "text": [
            "CPU times: user 4.4 s, sys: 21.9 ms, total: 4.42 s\n",
            "Wall time: 4.43 s\n"
          ]
        }
      ],
      "source": [
        "%%time\n",
        "emb_test = []\n",
        "users = test.id.unique()\n",
        "for user in users:\n",
        "    emb_test.append(pd.merge(test[test.id == user], \n",
        "                             name_books[['id_book', 'preprocessed']], \n",
        "                              left_on='id_book', right_on='id_book', \n",
        "                             how='inner')['preprocessed'].unique().tolist())"
      ]
    },
    {
      "cell_type": "code",
      "execution_count": 66,
      "id": "cfce97dd-6bf0-411a-abaa-47dac107b1a6",
      "metadata": {
        "id": "cfce97dd-6bf0-411a-abaa-47dac107b1a6",
        "outputId": "f4ee721f-eccc-402c-b35b-9ce13d365261",
        "colab": {
          "base_uri": "https://localhost:8080/"
        }
      },
      "outputs": [
        {
          "output_type": "stream",
          "name": "stdout",
          "text": [
            "CPU times: user 4 s, sys: 15.8 ms, total: 4.02 s\n",
            "Wall time: 4 s\n"
          ]
        }
      ],
      "source": [
        "%%time\n",
        "emb_hist = []\n",
        "users = test.id.unique()\n",
        "for user in users:\n",
        "    emb_hist.append(pd.merge(history_test[history_test.id == user], \n",
        "                             name_books[['id_book', 'preprocessed']], \n",
        "                             left_on='id_book', right_on='id_book', \n",
        "                             how='inner')['preprocessed'].unique().tolist())"
      ]
    },
    {
      "cell_type": "code",
      "source": [
        "model = fasttext.load_model('ftext_unsupervised_20.bin')"
      ],
      "metadata": {
        "colab": {
          "base_uri": "https://localhost:8080/"
        },
        "id": "mygRx__YvQGP",
        "outputId": "d206dfca-5009-410a-a003-b6d6083821d9"
      },
      "id": "mygRx__YvQGP",
      "execution_count": 67,
      "outputs": [
        {
          "output_type": "stream",
          "name": "stderr",
          "text": [
            "Warning : `load_model` does not return WordVectorModel or SupervisedModel any more, but a `FastText` object which is very similar.\n"
          ]
        }
      ]
    },
    {
      "cell_type": "code",
      "execution_count": 68,
      "id": "f6879436-3cd5-4514-a52f-fa680a70e834",
      "metadata": {
        "id": "f6879436-3cd5-4514-a52f-fa680a70e834",
        "outputId": "4bb469e1-70e9-4504-fbf9-7593dc9e0222",
        "colab": {
          "base_uri": "https://localhost:8080/"
        }
      },
      "outputs": [
        {
          "output_type": "stream",
          "name": "stdout",
          "text": [
            "CPU times: user 1.11 s, sys: 75.7 ms, total: 1.19 s\n",
            "Wall time: 1.11 s\n"
          ]
        }
      ],
      "source": [
        "%%time\n",
        "X_train = [model.get_sentence_vector(' '.join(x)) for x in emb_train]\n",
        "X_test = [model.get_sentence_vector(' '.join(x)) for x in emb_test]\n",
        "X_hist = [model.get_sentence_vector(' '.join(x)) for x in emb_hist]"
      ]
    },
    {
      "cell_type": "markdown",
      "id": "08208b70-4be2-4830-bf79-103894303083",
      "metadata": {
        "id": "08208b70-4be2-4830-bf79-103894303083"
      },
      "source": [
        "## Clustering on embedding fasttext"
      ]
    },
    {
      "cell_type": "code",
      "execution_count": 70,
      "id": "9f3ad2df-8cbc-4957-8390-3183bdd566c6",
      "metadata": {
        "id": "9f3ad2df-8cbc-4957-8390-3183bdd566c6"
      },
      "outputs": [],
      "source": [
        "def apk(actual, predicted, k=10):\n",
        "    if len(predicted)>k:\n",
        "        predicted = predicted[:k]\n",
        "    score = 0.0\n",
        "    num_hits = 0.0\n",
        "    for i,p in enumerate(predicted):\n",
        "        if p in actual and p not in predicted[:i]:\n",
        "            num_hits += 1.0\n",
        "            score += num_hits / (i+1.0)\n",
        "    if not actual:\n",
        "        return 0.0\n",
        "    return score\n",
        "\n",
        "def mapk(actual, predicted, k=10):\n",
        "    return np.mean([apk(a,p,k) for a,p in zip(actual, predicted)])"
      ]
    },
    {
      "cell_type": "code",
      "execution_count": 71,
      "id": "bbb6629c-983d-487f-94ac-2803dc5fd9f1",
      "metadata": {
        "id": "bbb6629c-983d-487f-94ac-2803dc5fd9f1"
      },
      "outputs": [],
      "source": [
        "def map_cluster(kmeans_df, df, test, history, topn:int=10):\n",
        "    users = kmeans_df.category_id.unique()\n",
        "    score = 0\n",
        "    actuals = []\n",
        "    preds = []\n",
        "    for user in users:\n",
        "        cluster = kmeans_df[kmeans_df.category_id == user]['cluster'].unique()[0]\n",
        "        similar_users = kmeans_df[kmeans_df.cluster == cluster]['category_id'].unique()\n",
        "        hist_book = history[history.id == user]['id_book'].unique()\n",
        "        \n",
        "        preds.append(df[(df.id.isin(similar_users)) & (df.id != user) & ~(\n",
        "            df.id_book.isin(hist_book))]['id_book'].value_counts()[:topn].index.tolist())\n",
        "        actuals.append(test[test.id == user]['id_book'].values.tolist())\n",
        "\n",
        "    return actuals, preds"
      ]
    },
    {
      "cell_type": "code",
      "execution_count": 78,
      "id": "9126e8d6-61fb-474e-a2c6-de829285d91d",
      "metadata": {
        "id": "9126e8d6-61fb-474e-a2c6-de829285d91d"
      },
      "outputs": [],
      "source": [
        "def hit_rate_kmean(kmeans_df, df, test, history, topn:int=10):\n",
        "    users = kmeans_df.category_id.unique()\n",
        "    score = 0\n",
        "    for user in users:\n",
        "        cluster = kmeans_df[kmeans_df.category_id == user]['cluster'].unique()[0]\n",
        "        similar_users = kmeans_df[kmeans_df.cluster == cluster]['category_id'].unique()\n",
        "        hist_book = history[history.id == user]['id_book'].unique()\n",
        "        rec_books = df[(df.id.isin(similar_users)) & (df.id != user) & ~(\n",
        "            df.id_book.isin(hist_book))]['id_book'].value_counts()[:topn].index.tolist()\n",
        "        true_book = test[test.id == user]['id_book'].values[0]\n",
        "        if true_book in rec_books:\n",
        "            score += 1\n",
        "    hite_rate = score / users.shape[0]\n",
        "    return hite_rate"
      ]
    },
    {
      "cell_type": "code",
      "execution_count": 73,
      "id": "b645fd59-a945-4361-8554-fb381a711107",
      "metadata": {
        "id": "b645fd59-a945-4361-8554-fb381a711107"
      },
      "outputs": [],
      "source": [
        "def find_best_k(X_train):\n",
        "    '''\n",
        "    обучаем kmeans с разным числом кластеров возвраем с наибольшим значение коэфициента силуэта\n",
        "    '''\n",
        "    metrics = {}\n",
        "    for i in range(2, 20):\n",
        "        kmeans = KMeans(n_clusters=i, init='k-means++', random_state=42)\n",
        "        kmeans.fit(X_train)\n",
        "        cluster_labels = kmeans.fit_predict(X_train)\n",
        "        silhouette_avg = silhouette_score(X_train, cluster_labels)\n",
        "        metrics[i] = silhouette_avg\n",
        "        print(f'For {i} clusters: metric: {silhouette_avg:.3f}')\n",
        "    best_k = max(metrics, key=metrics.get)\n",
        "    print(f'\\n\\tBest number of clusters:{best_k}\\n\\tDone')\n",
        "    return best_k"
      ]
    },
    {
      "cell_type": "code",
      "execution_count": 74,
      "id": "e773b91a-999b-49af-8564-5a0327a8b39c",
      "metadata": {
        "id": "e773b91a-999b-49af-8564-5a0327a8b39c",
        "outputId": "e49afba8-f886-470a-92d3-197219376dff",
        "colab": {
          "base_uri": "https://localhost:8080/"
        }
      },
      "outputs": [
        {
          "output_type": "stream",
          "name": "stdout",
          "text": [
            "For 2 clusters: metric: 0.257\n",
            "For 3 clusters: metric: 0.245\n",
            "For 4 clusters: metric: 0.128\n",
            "For 5 clusters: metric: 0.134\n",
            "For 6 clusters: metric: 0.106\n",
            "For 7 clusters: metric: 0.111\n",
            "For 8 clusters: metric: 0.111\n",
            "For 9 clusters: metric: 0.097\n",
            "For 10 clusters: metric: 0.052\n",
            "For 11 clusters: metric: 0.054\n",
            "For 12 clusters: metric: 0.097\n",
            "For 13 clusters: metric: 0.089\n",
            "For 14 clusters: metric: 0.053\n",
            "For 15 clusters: metric: 0.082\n",
            "For 16 clusters: metric: 0.052\n",
            "For 17 clusters: metric: 0.053\n",
            "For 18 clusters: metric: 0.058\n",
            "For 19 clusters: metric: 0.056\n",
            "\n",
            "\tBest number of clusters:2\n",
            "\tDone\n",
            "CPU times: user 1min 18s, sys: 26.4 s, total: 1min 44s\n",
            "Wall time: 1min 4s\n"
          ]
        }
      ],
      "source": [
        "%%time\n",
        "clusters = find_best_k(X_train)"
      ]
    },
    {
      "cell_type": "markdown",
      "id": "1008f88c-323b-4e58-b12e-0592839217ba",
      "metadata": {
        "id": "1008f88c-323b-4e58-b12e-0592839217ba"
      },
      "source": [
        "---"
      ]
    },
    {
      "cell_type": "markdown",
      "id": "f4b05ff2-f016-4dd1-9675-8d09a2bf86af",
      "metadata": {
        "id": "f4b05ff2-f016-4dd1-9675-8d09a2bf86af"
      },
      "source": [
        "## Save models"
      ]
    },
    {
      "cell_type": "code",
      "execution_count": 80,
      "id": "d5eaa8fd-10b2-4c7e-9da8-a8e0d1fc5954",
      "metadata": {
        "id": "d5eaa8fd-10b2-4c7e-9da8-a8e0d1fc5954"
      },
      "outputs": [],
      "source": [
        "with open(\"kmeans.pkl\", \"wb\") as f:\n",
        "    pickle.dump(y_km, f)"
      ]
    },
    {
      "cell_type": "markdown",
      "id": "e345bdb2-69d5-472b-9996-54fadd79fb2a",
      "metadata": {
        "id": "e345bdb2-69d5-472b-9996-54fadd79fb2a"
      },
      "source": [
        "---"
      ]
    }
  ],
  "metadata": {
    "kernelspec": {
      "display_name": "Python 3 (ipykernel)",
      "language": "python",
      "name": "python3"
    },
    "language_info": {
      "codemirror_mode": {
        "name": "ipython",
        "version": 3
      },
      "file_extension": ".py",
      "mimetype": "text/x-python",
      "name": "python",
      "nbconvert_exporter": "python",
      "pygments_lexer": "ipython3",
      "version": "3.9.7"
    },
    "colab": {
      "name": "kmeans+fasttext.ipynb",
      "provenance": [],
      "collapsed_sections": []
    }
  },
  "nbformat": 4,
  "nbformat_minor": 5
}