{
  "cells": [
    {
      "cell_type": "code",
      "execution_count": 23,
      "id": "nMhHnZAyp0SW",
      "metadata": {
        "colab": {
          "base_uri": "https://localhost:8080/"
        },
        "id": "nMhHnZAyp0SW",
        "outputId": "f62ab19d-b21f-488d-8b65-d009b2234830"
      },
      "outputs": [
        {
          "output_type": "stream",
          "name": "stdout",
          "text": [
            "Looking in indexes: https://pypi.org/simple, https://us-python.pkg.dev/colab-wheels/public/simple/\n",
            "Requirement already satisfied: fasttext in /usr/local/lib/python3.7/dist-packages (0.9.2)\n",
            "Requirement already satisfied: setuptools>=0.7.0 in /usr/local/lib/python3.7/dist-packages (from fasttext) (57.4.0)\n",
            "Requirement already satisfied: pybind11>=2.2 in /usr/local/lib/python3.7/dist-packages (from fasttext) (2.9.2)\n",
            "Requirement already satisfied: numpy in /usr/local/lib/python3.7/dist-packages (from fasttext) (1.21.6)\n"
          ]
        }
      ],
      "source": [
        "!pip install fasttext"
      ]
    },
    {
      "cell_type": "code",
      "execution_count": 24,
      "id": "3529c84d-1e99-4cd8-ac88-a3889b5e90e1",
      "metadata": {
        "id": "3529c84d-1e99-4cd8-ac88-a3889b5e90e1"
      },
      "outputs": [],
      "source": [
        "import pickle\n",
        "import fasttext\n",
        "import numpy as np\n",
        "import pandas as pd\n",
        "\n",
        "from tqdm import tqdm\n",
        "from sklearn.cluster import KMeans\n",
        "from sklearn.metrics import silhouette_score"
      ]
    },
    {
      "cell_type": "markdown",
      "id": "971eceed-5e0b-4849-889f-65c4984ca7f1",
      "metadata": {
        "id": "971eceed-5e0b-4849-889f-65c4984ca7f1"
      },
      "source": [
        "## Load data and preprocessing"
      ]
    },
    {
      "cell_type": "code",
      "execution_count": 25,
      "id": "6af4c2a6-2289-45d9-a5f6-0ae586305c8b",
      "metadata": {
        "id": "6af4c2a6-2289-45d9-a5f6-0ae586305c8b"
      },
      "outputs": [],
      "source": [
        "train = pd.read_csv('train.csv', index_col=False)\n",
        "test = pd.read_csv('test.csv', index_col=False)\n",
        "name_books = pd.read_csv('books.csv', index_col=False)\n",
        "medlib_df = pd.read_csv('medlib.csv')"
      ]
    },
    {
      "cell_type": "markdown",
      "id": "4SsWwkQvrIBh",
      "metadata": {
        "id": "4SsWwkQvrIBh"
      },
      "source": [
        "###Fasttext train"
      ]
    },
    {
      "cell_type": "code",
      "execution_count": 26,
      "id": "CKxVNo0Gr-tM",
      "metadata": {
        "id": "CKxVNo0Gr-tM"
      },
      "outputs": [],
      "source": [
        "fasttext_filename_train = 'unsupervised_fasttext_train.txt'"
      ]
    },
    {
      "cell_type": "code",
      "execution_count": 27,
      "id": "4N_PYK-gq461",
      "metadata": {
        "id": "4N_PYK-gq461"
      },
      "outputs": [],
      "source": [
        "# Remove users with only 1 book\n",
        "\n",
        "count_books = medlib_df.groupby('id').count()\n",
        "delete_users = count_books[count_books.id_book <= 1].index.tolist()\n",
        "medlib_df = medlib_df[~medlib_df.id.isin(delete_users)]"
      ]
    },
    {
      "cell_type": "code",
      "execution_count": 28,
      "id": "1-g9yQQ2q0ep",
      "metadata": {
        "id": "1-g9yQQ2q0ep"
      },
      "outputs": [],
      "source": [
        "name_books.fillna('', inplace=True)\n",
        "name_books = name_books[name_books.id_book != '']\n",
        "name_books = name_books[name_books.name_book != '']\n",
        "name_books.name_book = name_books.name_book.apply(lambda x: x.lower())"
      ]
    },
    {
      "cell_type": "code",
      "execution_count": 29,
      "id": "5eZ4LONUr1qY",
      "metadata": {
        "colab": {
          "base_uri": "https://localhost:8080/"
        },
        "id": "5eZ4LONUr1qY",
        "outputId": "599779aa-3f15-417d-d351-c7a0a613ed1f"
      },
      "outputs": [
        {
          "output_type": "stream",
          "name": "stderr",
          "text": [
            "100%|██████████| 6919/6919 [02:08<00:00, 53.71it/s]\n"
          ]
        }
      ],
      "source": [
        "books = []\n",
        "for user_id in tqdm(medlib_df.id.unique()):\n",
        "    book = ''\n",
        "\n",
        "    for book_id in medlib_df[medlib_df.id == user_id].id_book.values:\n",
        "        book_name = name_books[name_books.id_book == book_id].name_book.values\n",
        "        if len(book_name) > 0:\n",
        "            book += book_name[0].replace(' ', '').replace('[текст]', '').replace(':', '')\n",
        "            book += ' '\n",
        "            \n",
        "    books.append(book)"
      ]
    },
    {
      "cell_type": "code",
      "execution_count": 30,
      "id": "cHtFrQQ3r8r8",
      "metadata": {
        "colab": {
          "base_uri": "https://localhost:8080/"
        },
        "id": "cHtFrQQ3r8r8",
        "outputId": "0d82b1b6-6883-436c-8e24-d084645e7f85"
      },
      "outputs": [
        {
          "output_type": "stream",
          "name": "stderr",
          "text": [
            "100%|██████████| 6919/6919 [00:00<00:00, 57741.91it/s]\n"
          ]
        }
      ],
      "source": [
        "with open(fasttext_filename_train, 'w', encoding=\"utf-8\") as f:\n",
        "    for line in tqdm(books):\n",
        "        f.write(line)\n",
        "        f.write('\\n')"
      ]
    },
    {
      "cell_type": "code",
      "execution_count": 31,
      "id": "m1KJlQzjsFSW",
      "metadata": {
        "id": "m1KJlQzjsFSW"
      },
      "outputs": [],
      "source": [
        "model = fasttext.train_unsupervised(fasttext_filename_train,\n",
        "                                    dim=20)"
      ]
    },
    {
      "cell_type": "code",
      "execution_count": 32,
      "id": "d2vX3zxIsKAf",
      "metadata": {
        "id": "d2vX3zxIsKAf"
      },
      "outputs": [],
      "source": [
        "model.save_model('ftext_unsupervised_20.bin')"
      ]
    },
    {
      "cell_type": "markdown",
      "id": "46e318fa-9f84-4881-b175-1ce0483320b2",
      "metadata": {
        "id": "46e318fa-9f84-4881-b175-1ce0483320b2"
      },
      "source": [
        "## Preprocessing data"
      ]
    },
    {
      "cell_type": "code",
      "execution_count": 33,
      "id": "af5dff04-1f45-4b80-94cc-62c0e0c38737",
      "metadata": {
        "id": "af5dff04-1f45-4b80-94cc-62c0e0c38737"
      },
      "outputs": [],
      "source": [
        "name_books['preprocessed'] = name_books.name_book.apply(lambda x: ''.join(filter(str.isalpha, x.replace('[текст]', '').split(':')[0].split('.')[-1].strip())))"
      ]
    },
    {
      "cell_type": "code",
      "execution_count": 34,
      "id": "51cc7cc3-9c56-4bec-ba42-dfab85723c8b",
      "metadata": {
        "id": "51cc7cc3-9c56-4bec-ba42-dfab85723c8b"
      },
      "outputs": [],
      "source": [
        "test = test.sort_values(by=['id', 'date'])"
      ]
    },
    {
      "cell_type": "code",
      "execution_count": 35,
      "id": "0a19d9db-779a-48ea-a0b0-bde6a188d1a4",
      "metadata": {
        "id": "0a19d9db-779a-48ea-a0b0-bde6a188d1a4"
      },
      "outputs": [],
      "source": [
        "true_test = test.groupby('id').last().reset_index()\n",
        "history_test = test[~test.apply(tuple,1).isin(true_test.apply(tuple,1))]"
      ]
    },
    {
      "cell_type": "code",
      "execution_count": 36,
      "id": "ab682176-a067-4cde-ba93-6b459f9d3c37",
      "metadata": {
        "id": "ab682176-a067-4cde-ba93-6b459f9d3c37"
      },
      "outputs": [],
      "source": [
        "test = test.groupby('id').last().reset_index()"
      ]
    },
    {
      "cell_type": "code",
      "execution_count": 37,
      "id": "489dbc1e-9ee7-49d0-ac7e-d67e20ef6f3a",
      "metadata": {
        "colab": {
          "base_uri": "https://localhost:8080/"
        },
        "id": "489dbc1e-9ee7-49d0-ac7e-d67e20ef6f3a",
        "outputId": "5b9218c5-4ffb-4d35-d8cf-2d3f2e5a09ce"
      },
      "outputs": [
        {
          "output_type": "stream",
          "name": "stderr",
          "text": [
            "100%|██████████| 6712/6712 [01:16<00:00, 87.68it/s]\n",
            "100%|██████████| 1342/1342 [00:15<00:00, 87.98it/s]\n"
          ]
        }
      ],
      "source": [
        "emb_train = []\n",
        "emb_test = []\n",
        "users_train = train.id.unique()\n",
        "for user in tqdm(users_train):\n",
        "    emb_train.append(pd.merge(train[train.id == user], \n",
        "                              name_books[['id_book', 'preprocessed']], \n",
        "                              left_on='id_book', right_on='id_book', \n",
        "                              how='inner')['preprocessed'].unique().tolist())\n",
        "  \n",
        "users_test = test.id.unique()\n",
        "for user in tqdm(users_test):\n",
        "    emb_test.append(pd.merge(train[train.id == user], \n",
        "                              name_books[['id_book', 'preprocessed']], \n",
        "                              left_on='id_book', right_on='id_book', \n",
        "                              how='inner')['preprocessed'].unique().tolist())"
      ]
    },
    {
      "cell_type": "code",
      "execution_count": 38,
      "id": "mygRx__YvQGP",
      "metadata": {
        "colab": {
          "base_uri": "https://localhost:8080/"
        },
        "id": "mygRx__YvQGP",
        "outputId": "558930f5-bbab-4577-b5d8-e6ddab22367e"
      },
      "outputs": [
        {
          "output_type": "stream",
          "name": "stderr",
          "text": [
            "Warning : `load_model` does not return WordVectorModel or SupervisedModel any more, but a `FastText` object which is very similar.\n"
          ]
        }
      ],
      "source": [
        "model = fasttext.load_model('ftext_unsupervised_20.bin')"
      ]
    },
    {
      "cell_type": "code",
      "execution_count": 39,
      "id": "f6879436-3cd5-4514-a52f-fa680a70e834",
      "metadata": {
        "colab": {
          "base_uri": "https://localhost:8080/"
        },
        "id": "f6879436-3cd5-4514-a52f-fa680a70e834",
        "outputId": "60458770-1bb8-4816-c2bb-69c7d36aae66"
      },
      "outputs": [
        {
          "output_type": "stream",
          "name": "stdout",
          "text": [
            "CPU times: user 1.29 s, sys: 75.9 ms, total: 1.36 s\n",
            "Wall time: 1.24 s\n"
          ]
        }
      ],
      "source": [
        "%%time\n",
        "X_train = [model.get_sentence_vector(' '.join(x)) for x in emb_train]\n",
        "X_test = [model.get_sentence_vector(' '.join(x)) for x in emb_test]"
      ]
    },
    {
      "cell_type": "markdown",
      "id": "08208b70-4be2-4830-bf79-103894303083",
      "metadata": {
        "id": "08208b70-4be2-4830-bf79-103894303083"
      },
      "source": [
        "## Clustering on embedding fasttext"
      ]
    },
    {
      "cell_type": "code",
      "execution_count": 40,
      "id": "9f3ad2df-8cbc-4957-8390-3183bdd566c6",
      "metadata": {
        "id": "9f3ad2df-8cbc-4957-8390-3183bdd566c6"
      },
      "outputs": [],
      "source": [
        "def apk(actual, predicted, k=10):\n",
        "    \"\"\"\n",
        "    Average precison at k\n",
        "    \"\"\"\n",
        "    if len(predicted)>k:\n",
        "        predicted = predicted[:k]\n",
        "\n",
        "    score = 0.0\n",
        "    num_hits = 0.0\n",
        "\n",
        "    for i,p in enumerate(predicted):\n",
        "        if p in actual and p not in predicted[:i]:\n",
        "            num_hits += 1.0\n",
        "            score += num_hits / (i+1.0)\n",
        "\n",
        "    if not actual:\n",
        "        return 0.0\n",
        "\n",
        "    return score\n",
        "\n",
        "def mapk(actual, predicted, k=10):\n",
        "    return np.mean([apk(a,p,k) for a,p in zip(actual, predicted)])"
      ]
    },
    {
      "cell_type": "code",
      "execution_count": 41,
      "id": "bbb6629c-983d-487f-94ac-2803dc5fd9f1",
      "metadata": {
        "id": "bbb6629c-983d-487f-94ac-2803dc5fd9f1"
      },
      "outputs": [],
      "source": [
        "def map_cluster(kmeans_df, df, test, history, topn:int=10):\n",
        "    \"\"\"\n",
        "    Mean average precison for cluster\n",
        "    \"\"\"\n",
        "    users = kmeans_df.category_id.unique()\n",
        "    score = 0\n",
        "\n",
        "    actuals = []\n",
        "    preds = []\n",
        "\n",
        "    for user in users:\n",
        "        cluster = kmeans_df[kmeans_df.category_id == user]['cluster'].unique()[0]\n",
        "        similar_users = kmeans_df[kmeans_df.cluster == cluster]['category_id'].unique()\n",
        "        hist_book = history[history.id == user]['id_book'].unique()\n",
        "        \n",
        "        preds.append(df[(df.id.isin(similar_users)) & (df.id != user) & ~(\n",
        "            df.id_book.isin(hist_book))]['id_book'].value_counts()[:topn].index.tolist())\n",
        "        actuals.append(test[test.id == user]['id_book'].values.tolist())\n",
        "\n",
        "    return actuals, preds"
      ]
    },
    {
      "cell_type": "code",
      "execution_count": 42,
      "id": "9126e8d6-61fb-474e-a2c6-de829285d91d",
      "metadata": {
        "id": "9126e8d6-61fb-474e-a2c6-de829285d91d"
      },
      "outputs": [],
      "source": [
        "def hit_rate_kmean(kmeans_df, df, test, history, topn:int=10):\n",
        "    \"\"\"\n",
        "    Hit rate for K-Means\n",
        "    \"\"\"\n",
        "    users = kmeans_df.category_id.unique()\n",
        "    score = 0\n",
        "\n",
        "    for user in users:\n",
        "        cluster = kmeans_df[kmeans_df.category_id == user]['cluster'].unique()[0]\n",
        "        similar_users = kmeans_df[kmeans_df.cluster == cluster]['category_id'].unique()\n",
        "        hist_book = history[history.id == user]['id_book'].unique()\n",
        "\n",
        "        rec_books = df[(df.id.isin(similar_users)) & (df.id != user) & ~(\n",
        "            df.id_book.isin(hist_book))]['id_book'].value_counts()[:topn].index.tolist()\n",
        "        true_book = test[test.id == user]['id_book'].values[0]\n",
        "\n",
        "        if true_book in rec_books:\n",
        "            score += 1\n",
        "\n",
        "    hite_rate = score / users.shape[0]\n",
        "    return hite_rate"
      ]
    },
    {
      "cell_type": "code",
      "execution_count": 43,
      "id": "b645fd59-a945-4361-8554-fb381a711107",
      "metadata": {
        "id": "b645fd59-a945-4361-8554-fb381a711107"
      },
      "outputs": [],
      "source": [
        "def find_best_k(X_train):\n",
        "    '''\n",
        "    Train K-Means with several clusters\n",
        "    Returns one with best silhouette coefficient\n",
        "    '''\n",
        "    metrics = {}\n",
        "    for i in range(2, 20):\n",
        "        kmeans = KMeans(n_clusters=i, init='k-means++', random_state=42)\n",
        "        kmeans.fit(X_train)\n",
        "\n",
        "        cluster_labels = kmeans.fit_predict(X_train)\n",
        "        silhouette_avg = silhouette_score(X_train, cluster_labels)\n",
        "        \n",
        "        metrics[i] = silhouette_avg\n",
        "        print(f'For {i} clusters: metric: {silhouette_avg:.3f}')\n",
        "        \n",
        "    best_k = max(metrics, key=metrics.get)\n",
        "    print(f'\\n\\tBest number of clusters:{best_k}\\n\\tDone')\n",
        "    return best_k"
      ]
    },
    {
      "cell_type": "code",
      "execution_count": 44,
      "id": "e773b91a-999b-49af-8564-5a0327a8b39c",
      "metadata": {
        "colab": {
          "base_uri": "https://localhost:8080/"
        },
        "id": "e773b91a-999b-49af-8564-5a0327a8b39c",
        "outputId": "1614ef85-9eaa-4bcc-fb07-50a35333e6ef"
      },
      "outputs": [
        {
          "output_type": "stream",
          "name": "stdout",
          "text": [
            "For 2 clusters: metric: 0.485\n",
            "For 3 clusters: metric: 0.364\n",
            "For 4 clusters: metric: 0.398\n",
            "For 5 clusters: metric: 0.376\n",
            "For 6 clusters: metric: 0.402\n",
            "For 7 clusters: metric: 0.366\n",
            "For 8 clusters: metric: 0.299\n",
            "For 9 clusters: metric: 0.269\n",
            "For 10 clusters: metric: 0.272\n",
            "For 11 clusters: metric: 0.239\n",
            "For 12 clusters: metric: 0.247\n",
            "For 13 clusters: metric: 0.246\n",
            "For 14 clusters: metric: 0.247\n",
            "For 15 clusters: metric: 0.246\n",
            "For 16 clusters: metric: 0.251\n",
            "For 17 clusters: metric: 0.250\n",
            "For 18 clusters: metric: 0.239\n",
            "For 19 clusters: metric: 0.239\n",
            "\n",
            "\tBest number of clusters:2\n",
            "\tDone\n"
          ]
        }
      ],
      "source": [
        "clusters = find_best_k(X_train)"
      ]
    },
    {
      "cell_type": "markdown",
      "id": "f4b05ff2-f016-4dd1-9675-8d09a2bf86af",
      "metadata": {
        "id": "f4b05ff2-f016-4dd1-9675-8d09a2bf86af"
      },
      "source": [
        "## Save models"
      ]
    },
    {
      "cell_type": "code",
      "execution_count": 45,
      "id": "d5eaa8fd-10b2-4c7e-9da8-a8e0d1fc5954",
      "metadata": {
        "id": "d5eaa8fd-10b2-4c7e-9da8-a8e0d1fc5954"
      },
      "outputs": [],
      "source": [
        "with open(\"clusters.pkl\", \"wb\") as f:\n",
        "    pickle.dump(clusters, f)"
      ]
    }
  ],
  "metadata": {
    "colab": {
      "collapsed_sections": [],
      "name": "kmeans+fasttext.ipynb",
      "provenance": []
    },
    "kernelspec": {
      "display_name": "Python 3",
      "language": "python",
      "name": "python3"
    },
    "language_info": {
      "codemirror_mode": {
        "name": "ipython",
        "version": 3
      },
      "file_extension": ".py",
      "mimetype": "text/x-python",
      "name": "python",
      "nbconvert_exporter": "python",
      "pygments_lexer": "ipython3",
      "version": "3.8.8"
    }
  },
  "nbformat": 4,
  "nbformat_minor": 5
}