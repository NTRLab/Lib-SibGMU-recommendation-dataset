{
  "cells": [
    {
      "cell_type": "code",
      "source": [
        "from google.colab import drive\n",
        "drive.mount('/content/drive')"
      ],
      "metadata": {
        "colab": {
          "base_uri": "https://localhost:8080/"
        },
        "id": "iqtywJFILN4L",
        "outputId": "7df04083-696e-45de-d4f9-6cb1b7b34c39"
      },
      "execution_count": 1,
      "outputs": [
        {
          "output_type": "stream",
          "name": "stdout",
          "text": [
            "Mounted at /content/drive\n"
          ]
        }
      ]
    },
    {
      "cell_type": "code",
      "execution_count": null,
      "metadata": {
        "id": "k3DbrltKQbVN"
      },
      "outputs": [],
      "source": [
        "!pip install tensorflow==1.15 cornac"
      ]
    },
    {
      "cell_type": "code",
      "execution_count": 19,
      "metadata": {
        "id": "3-nDFhzvSXuj"
      },
      "outputs": [],
      "source": [
        "import cornac\n",
        "import pickle\n",
        "import itertools\n",
        "import numpy as np\n",
        "import pandas as pd\n",
        "\n",
        "from scipy.sparse import csr_matrix\n",
        "from sklearn.preprocessing import normalize\n",
        "from collections import OrderedDict, defaultdict"
      ]
    },
    {
      "cell_type": "code",
      "execution_count": 20,
      "metadata": {
        "id": "blKoNjqhS2kq"
      },
      "outputs": [],
      "source": [
        "name_books = pd.read_csv('books.csv')\n",
        "train = pd.read_csv('train.csv', index_col=False)\n",
        "test = pd.read_csv('test.csv', index_col=False)"
      ]
    },
    {
      "cell_type": "code",
      "source": [
        "test = test.sort_values(by=['id', 'date'])\n",
        "test = test.groupby('id').last().reset_index()"
      ],
      "metadata": {
        "id": "RlR3R9UC0zEX"
      },
      "execution_count": 21,
      "outputs": []
    },
    {
      "cell_type": "code",
      "execution_count": 22,
      "metadata": {
        "id": "cmlzlOJzTGmk"
      },
      "outputs": [],
      "source": [
        "users = pd.concat([train[['id']], test[['id']]], \n",
        "                  ignore_index=True)\n",
        "users.id = users.id.astype('category')\n",
        "users['category_id'] = users.id.cat.codes\n",
        "\n",
        "books = pd.concat([train[['id_book']], test[['id_book']]], \n",
        "                  ignore_index=True)\n",
        "books.id_book = books.id_book.astype('category')\n",
        "books['category_book'] = books.id_book.cat.codes"
      ]
    },
    {
      "cell_type": "code",
      "execution_count": 23,
      "metadata": {
        "id": "5DMfnYwKTGs9"
      },
      "outputs": [],
      "source": [
        "train = pd.merge(train, users, left_on='id', right_on='id', \n",
        "                 how='inner').drop_duplicates()\n",
        "test = pd.merge(test, users, left_on='id', right_on='id', \n",
        "                how='inner').drop_duplicates()"
      ]
    },
    {
      "cell_type": "code",
      "execution_count": 24,
      "metadata": {
        "id": "fR4_AAeNTM7H"
      },
      "outputs": [],
      "source": [
        "train = pd.merge(train, books, left_on='id_book', right_on='id_book', how='inner').drop_duplicates()\n",
        "test = pd.merge(test, books, left_on='id_book', right_on='id_book', how='inner').drop_duplicates()"
      ]
    },
    {
      "cell_type": "code",
      "source": [
        "print(f'train:\\t\\t{train.shape[0]}\\ntest:\\t\\t{test.shape[0]}')"
      ],
      "metadata": {
        "colab": {
          "base_uri": "https://localhost:8080/"
        },
        "id": "xYlq3ie9A3Km",
        "outputId": "8e1b9430-e118-47a1-b8d1-e23da2ed5546"
      },
      "execution_count": 25,
      "outputs": [
        {
          "output_type": "stream",
          "name": "stdout",
          "text": [
            "train:\t\t121506\n",
            "test:\t\t1342\n"
          ]
        }
      ]
    },
    {
      "cell_type": "code",
      "execution_count": 26,
      "metadata": {
        "id": "QUdhH1dIS2XK"
      },
      "outputs": [],
      "source": [
        "def to_cornac_ds(ds):\n",
        "  ds_user_num = ds.category_id.max() + 1\n",
        "  ds_book_num = ds.category_book.max() + 1\n",
        "  \n",
        "  uid_map = ds[['id', 'category_id']].to_dict(\n",
        "      into=OrderedDict, orient='index')\n",
        "  iid_map = ds[['id_book', 'category_book']].to_dict(\n",
        "      into=OrderedDict, orient='index')\n",
        "  \n",
        "  cat_users = ds.category_id.values\n",
        "  cat_books = ds.category_book.values\n",
        "  interact = np.full((1, cat_users.shape[0]), 1)\n",
        "  \n",
        "  uir_tuple = (cat_users, cat_books, interact)\n",
        "\n",
        "  cornac_ds = cornac.data.Dataset(num_users=ds_user_num,\n",
        "                               num_items=ds_book_num,\n",
        "                               uid_map=uid_map,\n",
        "                               iid_map=iid_map,\n",
        "                               uir_tuple=uir_tuple)\n",
        "  return cornac_ds"
      ]
    },
    {
      "cell_type": "code",
      "execution_count": 27,
      "metadata": {
        "id": "9DUtaeqSUqxc"
      },
      "outputs": [],
      "source": [
        "def hit_rate_als(model, test, n):\n",
        "    users = test.category_id.unique()\n",
        "    score = 0\n",
        "    \n",
        "    for user in users: \n",
        "      preds = model.score(int(user)).argsort()[::-1][:n]\n",
        "      actual = test[test.category_id == user]['category_book'].values.tolist()\n",
        "\n",
        "      hit = len(set(actual) & set(preds))\n",
        "      if hit > 0:\n",
        "        score += 1\n",
        "      hite_rate = score / users.shape[0]\n",
        "      \n",
        "    return hite_rate"
      ]
    },
    {
      "cell_type": "code",
      "execution_count": 28,
      "metadata": {
        "id": "r_sdVYm6XOst"
      },
      "outputs": [],
      "source": [
        "def map_als(model, test, n):\n",
        "    users = test.category_id.unique()\n",
        "    score = 0\n",
        "    actuals = []\n",
        "    preds = []\n",
        "\n",
        "    for user in users:\n",
        "      actual = []\n",
        "      pred = model.score(int(user)).argsort()[::-1][:n]\n",
        "      actual.append(test[test.category_id == user].iloc[-1]['category_book'])\n",
        "      actuals.append(actual)\n",
        "      preds.append(pred)\n",
        "      \n",
        "    return actuals, preds"
      ]
    },
    {
      "cell_type": "code",
      "execution_count": 29,
      "metadata": {
        "id": "19evTBPCXff_"
      },
      "outputs": [],
      "source": [
        "def apk(actual, predicted, k=10):\n",
        "    if len(predicted)>k:\n",
        "        predicted = predicted[:k]\n",
        "\n",
        "    score = 0.0\n",
        "    num_hits = 0.0\n",
        "\n",
        "    for i,p in enumerate(predicted):\n",
        "        if p in actual and p not in predicted[:i]:\n",
        "            num_hits += 1.0\n",
        "            score += num_hits / (i+1.0)\n",
        "\n",
        "    if not actual:\n",
        "        return 0.0\n",
        "\n",
        "    return score\n",
        "\n",
        "def mapk(actual, predicted, k=10):\n",
        "    return np.mean([apk(a,p,k) for a,p in zip(actual, predicted)])"
      ]
    },
    {
      "cell_type": "code",
      "execution_count": 30,
      "metadata": {
        "id": "zB0APtXSSbGB"
      },
      "outputs": [],
      "source": [
        "train_nfm = to_cornac_ds(train)"
      ]
    },
    {
      "cell_type": "code",
      "execution_count": 32,
      "metadata": {
        "id": "_ftQ287lYqk2",
        "colab": {
          "base_uri": "https://localhost:8080/",
          "height": 101,
          "referenced_widgets": [
            "2e182303ae4f436090f41ce92970be9f",
            "361306d608094c71817567bd7738bcf4",
            "689b9bb76a1f4857838c719eefadc09e",
            "1059319cbe854c389bc86d00767527e9",
            "5d4c660fe9a94a2c9224766f17e63953",
            "4b7160f9484c490e97aad841419d7143",
            "39c8826fb5e0492eaf0e08f18358265f",
            "813ea820c37b4df4807b1e6e5c481c0f",
            "133b574b3a7c416681032f17c7d7ce43",
            "fc0eb5644ae44f4eaf198ee77bbf504f",
            "f56b63ffff6c4611988be59d6495cf31"
          ]
        },
        "outputId": "0ea0ee68-6707-455b-fdf2-5630e52cd5d5"
      },
      "outputs": [
        {
          "output_type": "display_data",
          "data": {
            "text/plain": [
              "  0%|          | 0/10 [00:00<?, ?it/s]"
            ],
            "application/vnd.jupyter.widget-view+json": {
              "version_major": 2,
              "version_minor": 0,
              "model_id": "2e182303ae4f436090f41ce92970be9f"
            }
          },
          "metadata": {}
        },
        {
          "output_type": "stream",
          "name": "stdout",
          "text": [
            "CPU times: user 7min 9s, sys: 6.6 s, total: 7min 15s\n",
            "Wall time: 6min 57s\n"
          ]
        },
        {
          "output_type": "execute_result",
          "data": {
            "text/plain": [
              "<cornac.models.ncf.recom_neumf.NeuMF at 0x7f781881ec90>"
            ]
          },
          "metadata": {},
          "execution_count": 32
        }
      ],
      "source": [
        "%%time\n",
        "NCF2.fit(train_nfm)"
      ]
    },
    {
      "cell_type": "code",
      "execution_count": 39,
      "metadata": {
        "colab": {
          "base_uri": "https://localhost:8080/"
        },
        "id": "Zz3EeEtKleHn",
        "outputId": "ba6fc7ac-c65e-4143-ef8d-1f173d29dd4a"
      },
      "outputs": [
        {
          "output_type": "stream",
          "name": "stdout",
          "text": [
            "NCF model\n",
            "\tHit Rate@1:\t0.02235\n",
            "\tHit Rate@5:\t0.15499\n",
            "\tHit Rate@10:\t0.2623\n",
            "MAP@1:\t0.02235\n",
            "MAP@2:\t0.04247\n",
            "MAP@5:\t0.06668\n",
            "MAP@10:\t0.08078\n"
          ]
        }
      ],
      "source": [
        "print('NCF model')\n",
        "for n in [1, 5, 10]:\n",
        "  hr = round(hit_rate_als(NCF2, test, n), 5)\n",
        "  print(f'\\tHit Rate@{n}:\\t{hr}')\n",
        "  \n",
        "y_true, y_pred = map_als(NCF2, test, 10)\n",
        "for k in [1,2,5,10]:\n",
        "  print(f\"MAP@{k}:\\t{round(mapk(y_true, y_pred, k=k), 5)}\")"
      ]
    },
    {
      "cell_type": "markdown",
      "metadata": {
        "id": "MFX7WOuodk9_"
      },
      "source": [
        "---"
      ]
    },
    {
      "cell_type": "code",
      "execution_count": 35,
      "metadata": {
        "colab": {
          "base_uri": "https://localhost:8080/",
          "height": 66,
          "referenced_widgets": [
            "a4a78ab0a9774ddda6f4b45a2fbe0d8c",
            "8df8797f91154d52a0bf1b8b425e54ba",
            "665a5cd66e21498a82bc0da4fc0611a6",
            "e265a7637ffb4e61a0877457a4246293",
            "1840486dad16401286624b3e40b87f8f",
            "2e77f26ed84c4923ae1fd75cd4847a39",
            "47c9550bc8a14943b5cb7c6cfbe0c15d",
            "c592f0e1e0864a588d2b7260f9793f36",
            "bf46b6452ca848de81136422f7248452",
            "406423c4202c4ce3abb98bd5fe63bfeb",
            "cae2167a60064e54a590b9ccd214ead3"
          ]
        },
        "id": "IsuHIt3YThA3",
        "outputId": "1c4f69a3-5f30-4a17-93cf-7f7c4d7ad38a"
      },
      "outputs": [
        {
          "output_type": "display_data",
          "data": {
            "text/plain": [
              "  0%|          | 0/30 [00:00<?, ?it/s]"
            ],
            "application/vnd.jupyter.widget-view+json": {
              "version_major": 2,
              "version_minor": 0,
              "model_id": "a4a78ab0a9774ddda6f4b45a2fbe0d8c"
            }
          },
          "metadata": {}
        },
        {
          "output_type": "execute_result",
          "data": {
            "text/plain": [
              "<cornac.models.ncf.recom_neumf.NeuMF at 0x7f7818a6fb90>"
            ]
          },
          "metadata": {},
          "execution_count": 35
        }
      ],
      "source": [
        "model = cornac.models.NeuMF(\n",
        "    num_factors=10,\n",
        "    num_neg=10,\n",
        "    num_epochs=30,\n",
        "    seed=123)\n",
        "model.fit(train_nfm)"
      ]
    },
    {
      "cell_type": "code",
      "execution_count": 40,
      "metadata": {
        "colab": {
          "base_uri": "https://localhost:8080/"
        },
        "id": "vA4jc7zhUP0W",
        "outputId": "09edf245-14ee-4f4a-f2ea-c8f0d5eaaa8d"
      },
      "outputs": [
        {
          "output_type": "stream",
          "name": "stdout",
          "text": [
            "NeuFM model\n",
            "\tHit Rate@1:\t0.02757\n",
            "\tHit Rate@5:\t0.14009\n",
            "\tHit Rate@10:\t0.26602\n",
            "NeuRM model\n",
            "\n",
            "MAP@1:\t0.027570789865871834\n",
            "MAP@2:\t0.039865871833084945\n",
            "MAP@5:\t0.06265524093392945\n",
            "MAP@10:\t0.07906849525701984\n"
          ]
        }
      ],
      "source": [
        "print('NeuFM model')\n",
        "for n in [1, 5, 10]:\n",
        "  hr = round(hit_rate_als(model, test, n), 5)\n",
        "  print(f'\\tHit Rate@{n}:\\t{hr}')\n",
        "\n",
        "y_true, y_pred = map_als(model, test, 10)\n",
        "print(\"NeuRM model\\n\")\n",
        "for k in [1,2,5,10]:\n",
        "  print(f\"MAP@{k}:\\t{mapk(y_true, y_pred, k=k)}\")"
      ]
    },
    {
      "cell_type": "code",
      "source": [
        ""
      ],
      "metadata": {
        "id": "kzJFIuDA-v5Q"
      },
      "execution_count": null,
      "outputs": []
    }
  ],
  "metadata": {
    "colab": {
      "collapsed_sections": [],
      "name": "NeuFM.ipynb",
      "provenance": []
    },
    "kernelspec": {
      "display_name": "Python 3",
      "name": "python3"
    },
    "language_info": {
      "name": "python"
    },
    "widgets": {
      "application/vnd.jupyter.widget-state+json": {
        "2e182303ae4f436090f41ce92970be9f": {
          "model_module": "@jupyter-widgets/controls",
          "model_name": "HBoxModel",
          "model_module_version": "1.5.0",
          "state": {
            "_dom_classes": [],
            "_model_module": "@jupyter-widgets/controls",
            "_model_module_version": "1.5.0",
            "_model_name": "HBoxModel",
            "_view_count": null,
            "_view_module": "@jupyter-widgets/controls",
            "_view_module_version": "1.5.0",
            "_view_name": "HBoxView",
            "box_style": "",
            "children": [
              "IPY_MODEL_361306d608094c71817567bd7738bcf4",
              "IPY_MODEL_689b9bb76a1f4857838c719eefadc09e",
              "IPY_MODEL_1059319cbe854c389bc86d00767527e9"
            ],
            "layout": "IPY_MODEL_5d4c660fe9a94a2c9224766f17e63953"
          }
        },
        "361306d608094c71817567bd7738bcf4": {
          "model_module": "@jupyter-widgets/controls",
          "model_name": "HTMLModel",
          "model_module_version": "1.5.0",
          "state": {
            "_dom_classes": [],
            "_model_module": "@jupyter-widgets/controls",
            "_model_module_version": "1.5.0",
            "_model_name": "HTMLModel",
            "_view_count": null,
            "_view_module": "@jupyter-widgets/controls",
            "_view_module_version": "1.5.0",
            "_view_name": "HTMLView",
            "description": "",
            "description_tooltip": null,
            "layout": "IPY_MODEL_4b7160f9484c490e97aad841419d7143",
            "placeholder": "​",
            "style": "IPY_MODEL_39c8826fb5e0492eaf0e08f18358265f",
            "value": "100%"
          }
        },
        "689b9bb76a1f4857838c719eefadc09e": {
          "model_module": "@jupyter-widgets/controls",
          "model_name": "FloatProgressModel",
          "model_module_version": "1.5.0",
          "state": {
            "_dom_classes": [],
            "_model_module": "@jupyter-widgets/controls",
            "_model_module_version": "1.5.0",
            "_model_name": "FloatProgressModel",
            "_view_count": null,
            "_view_module": "@jupyter-widgets/controls",
            "_view_module_version": "1.5.0",
            "_view_name": "ProgressView",
            "bar_style": "success",
            "description": "",
            "description_tooltip": null,
            "layout": "IPY_MODEL_813ea820c37b4df4807b1e6e5c481c0f",
            "max": 10,
            "min": 0,
            "orientation": "horizontal",
            "style": "IPY_MODEL_133b574b3a7c416681032f17c7d7ce43",
            "value": 10
          }
        },
        "1059319cbe854c389bc86d00767527e9": {
          "model_module": "@jupyter-widgets/controls",
          "model_name": "HTMLModel",
          "model_module_version": "1.5.0",
          "state": {
            "_dom_classes": [],
            "_model_module": "@jupyter-widgets/controls",
            "_model_module_version": "1.5.0",
            "_model_name": "HTMLModel",
            "_view_count": null,
            "_view_module": "@jupyter-widgets/controls",
            "_view_module_version": "1.5.0",
            "_view_name": "HTMLView",
            "description": "",
            "description_tooltip": null,
            "layout": "IPY_MODEL_fc0eb5644ae44f4eaf198ee77bbf504f",
            "placeholder": "​",
            "style": "IPY_MODEL_f56b63ffff6c4611988be59d6495cf31",
            "value": " 10/10 [06:57&lt;00:00, 41.08s/it, loss=0.0839]"
          }
        },
        "5d4c660fe9a94a2c9224766f17e63953": {
          "model_module": "@jupyter-widgets/base",
          "model_name": "LayoutModel",
          "model_module_version": "1.2.0",
          "state": {
            "_model_module": "@jupyter-widgets/base",
            "_model_module_version": "1.2.0",
            "_model_name": "LayoutModel",
            "_view_count": null,
            "_view_module": "@jupyter-widgets/base",
            "_view_module_version": "1.2.0",
            "_view_name": "LayoutView",
            "align_content": null,
            "align_items": null,
            "align_self": null,
            "border": null,
            "bottom": null,
            "display": null,
            "flex": null,
            "flex_flow": null,
            "grid_area": null,
            "grid_auto_columns": null,
            "grid_auto_flow": null,
            "grid_auto_rows": null,
            "grid_column": null,
            "grid_gap": null,
            "grid_row": null,
            "grid_template_areas": null,
            "grid_template_columns": null,
            "grid_template_rows": null,
            "height": null,
            "justify_content": null,
            "justify_items": null,
            "left": null,
            "margin": null,
            "max_height": null,
            "max_width": null,
            "min_height": null,
            "min_width": null,
            "object_fit": null,
            "object_position": null,
            "order": null,
            "overflow": null,
            "overflow_x": null,
            "overflow_y": null,
            "padding": null,
            "right": null,
            "top": null,
            "visibility": null,
            "width": null
          }
        },
        "4b7160f9484c490e97aad841419d7143": {
          "model_module": "@jupyter-widgets/base",
          "model_name": "LayoutModel",
          "model_module_version": "1.2.0",
          "state": {
            "_model_module": "@jupyter-widgets/base",
            "_model_module_version": "1.2.0",
            "_model_name": "LayoutModel",
            "_view_count": null,
            "_view_module": "@jupyter-widgets/base",
            "_view_module_version": "1.2.0",
            "_view_name": "LayoutView",
            "align_content": null,
            "align_items": null,
            "align_self": null,
            "border": null,
            "bottom": null,
            "display": null,
            "flex": null,
            "flex_flow": null,
            "grid_area": null,
            "grid_auto_columns": null,
            "grid_auto_flow": null,
            "grid_auto_rows": null,
            "grid_column": null,
            "grid_gap": null,
            "grid_row": null,
            "grid_template_areas": null,
            "grid_template_columns": null,
            "grid_template_rows": null,
            "height": null,
            "justify_content": null,
            "justify_items": null,
            "left": null,
            "margin": null,
            "max_height": null,
            "max_width": null,
            "min_height": null,
            "min_width": null,
            "object_fit": null,
            "object_position": null,
            "order": null,
            "overflow": null,
            "overflow_x": null,
            "overflow_y": null,
            "padding": null,
            "right": null,
            "top": null,
            "visibility": null,
            "width": null
          }
        },
        "39c8826fb5e0492eaf0e08f18358265f": {
          "model_module": "@jupyter-widgets/controls",
          "model_name": "DescriptionStyleModel",
          "model_module_version": "1.5.0",
          "state": {
            "_model_module": "@jupyter-widgets/controls",
            "_model_module_version": "1.5.0",
            "_model_name": "DescriptionStyleModel",
            "_view_count": null,
            "_view_module": "@jupyter-widgets/base",
            "_view_module_version": "1.2.0",
            "_view_name": "StyleView",
            "description_width": ""
          }
        },
        "813ea820c37b4df4807b1e6e5c481c0f": {
          "model_module": "@jupyter-widgets/base",
          "model_name": "LayoutModel",
          "model_module_version": "1.2.0",
          "state": {
            "_model_module": "@jupyter-widgets/base",
            "_model_module_version": "1.2.0",
            "_model_name": "LayoutModel",
            "_view_count": null,
            "_view_module": "@jupyter-widgets/base",
            "_view_module_version": "1.2.0",
            "_view_name": "LayoutView",
            "align_content": null,
            "align_items": null,
            "align_self": null,
            "border": null,
            "bottom": null,
            "display": null,
            "flex": null,
            "flex_flow": null,
            "grid_area": null,
            "grid_auto_columns": null,
            "grid_auto_flow": null,
            "grid_auto_rows": null,
            "grid_column": null,
            "grid_gap": null,
            "grid_row": null,
            "grid_template_areas": null,
            "grid_template_columns": null,
            "grid_template_rows": null,
            "height": null,
            "justify_content": null,
            "justify_items": null,
            "left": null,
            "margin": null,
            "max_height": null,
            "max_width": null,
            "min_height": null,
            "min_width": null,
            "object_fit": null,
            "object_position": null,
            "order": null,
            "overflow": null,
            "overflow_x": null,
            "overflow_y": null,
            "padding": null,
            "right": null,
            "top": null,
            "visibility": null,
            "width": null
          }
        },
        "133b574b3a7c416681032f17c7d7ce43": {
          "model_module": "@jupyter-widgets/controls",
          "model_name": "ProgressStyleModel",
          "model_module_version": "1.5.0",
          "state": {
            "_model_module": "@jupyter-widgets/controls",
            "_model_module_version": "1.5.0",
            "_model_name": "ProgressStyleModel",
            "_view_count": null,
            "_view_module": "@jupyter-widgets/base",
            "_view_module_version": "1.2.0",
            "_view_name": "StyleView",
            "bar_color": null,
            "description_width": ""
          }
        },
        "fc0eb5644ae44f4eaf198ee77bbf504f": {
          "model_module": "@jupyter-widgets/base",
          "model_name": "LayoutModel",
          "model_module_version": "1.2.0",
          "state": {
            "_model_module": "@jupyter-widgets/base",
            "_model_module_version": "1.2.0",
            "_model_name": "LayoutModel",
            "_view_count": null,
            "_view_module": "@jupyter-widgets/base",
            "_view_module_version": "1.2.0",
            "_view_name": "LayoutView",
            "align_content": null,
            "align_items": null,
            "align_self": null,
            "border": null,
            "bottom": null,
            "display": null,
            "flex": null,
            "flex_flow": null,
            "grid_area": null,
            "grid_auto_columns": null,
            "grid_auto_flow": null,
            "grid_auto_rows": null,
            "grid_column": null,
            "grid_gap": null,
            "grid_row": null,
            "grid_template_areas": null,
            "grid_template_columns": null,
            "grid_template_rows": null,
            "height": null,
            "justify_content": null,
            "justify_items": null,
            "left": null,
            "margin": null,
            "max_height": null,
            "max_width": null,
            "min_height": null,
            "min_width": null,
            "object_fit": null,
            "object_position": null,
            "order": null,
            "overflow": null,
            "overflow_x": null,
            "overflow_y": null,
            "padding": null,
            "right": null,
            "top": null,
            "visibility": null,
            "width": null
          }
        },
        "f56b63ffff6c4611988be59d6495cf31": {
          "model_module": "@jupyter-widgets/controls",
          "model_name": "DescriptionStyleModel",
          "model_module_version": "1.5.0",
          "state": {
            "_model_module": "@jupyter-widgets/controls",
            "_model_module_version": "1.5.0",
            "_model_name": "DescriptionStyleModel",
            "_view_count": null,
            "_view_module": "@jupyter-widgets/base",
            "_view_module_version": "1.2.0",
            "_view_name": "StyleView",
            "description_width": ""
          }
        },
        "a4a78ab0a9774ddda6f4b45a2fbe0d8c": {
          "model_module": "@jupyter-widgets/controls",
          "model_name": "HBoxModel",
          "model_module_version": "1.5.0",
          "state": {
            "_dom_classes": [],
            "_model_module": "@jupyter-widgets/controls",
            "_model_module_version": "1.5.0",
            "_model_name": "HBoxModel",
            "_view_count": null,
            "_view_module": "@jupyter-widgets/controls",
            "_view_module_version": "1.5.0",
            "_view_name": "HBoxView",
            "box_style": "",
            "children": [
              "IPY_MODEL_8df8797f91154d52a0bf1b8b425e54ba",
              "IPY_MODEL_665a5cd66e21498a82bc0da4fc0611a6",
              "IPY_MODEL_e265a7637ffb4e61a0877457a4246293"
            ],
            "layout": "IPY_MODEL_1840486dad16401286624b3e40b87f8f"
          }
        },
        "8df8797f91154d52a0bf1b8b425e54ba": {
          "model_module": "@jupyter-widgets/controls",
          "model_name": "HTMLModel",
          "model_module_version": "1.5.0",
          "state": {
            "_dom_classes": [],
            "_model_module": "@jupyter-widgets/controls",
            "_model_module_version": "1.5.0",
            "_model_name": "HTMLModel",
            "_view_count": null,
            "_view_module": "@jupyter-widgets/controls",
            "_view_module_version": "1.5.0",
            "_view_name": "HTMLView",
            "description": "",
            "description_tooltip": null,
            "layout": "IPY_MODEL_2e77f26ed84c4923ae1fd75cd4847a39",
            "placeholder": "​",
            "style": "IPY_MODEL_47c9550bc8a14943b5cb7c6cfbe0c15d",
            "value": "100%"
          }
        },
        "665a5cd66e21498a82bc0da4fc0611a6": {
          "model_module": "@jupyter-widgets/controls",
          "model_name": "FloatProgressModel",
          "model_module_version": "1.5.0",
          "state": {
            "_dom_classes": [],
            "_model_module": "@jupyter-widgets/controls",
            "_model_module_version": "1.5.0",
            "_model_name": "FloatProgressModel",
            "_view_count": null,
            "_view_module": "@jupyter-widgets/controls",
            "_view_module_version": "1.5.0",
            "_view_name": "ProgressView",
            "bar_style": "success",
            "description": "",
            "description_tooltip": null,
            "layout": "IPY_MODEL_c592f0e1e0864a588d2b7260f9793f36",
            "max": 30,
            "min": 0,
            "orientation": "horizontal",
            "style": "IPY_MODEL_bf46b6452ca848de81136422f7248452",
            "value": 30
          }
        },
        "e265a7637ffb4e61a0877457a4246293": {
          "model_module": "@jupyter-widgets/controls",
          "model_name": "HTMLModel",
          "model_module_version": "1.5.0",
          "state": {
            "_dom_classes": [],
            "_model_module": "@jupyter-widgets/controls",
            "_model_module_version": "1.5.0",
            "_model_name": "HTMLModel",
            "_view_count": null,
            "_view_module": "@jupyter-widgets/controls",
            "_view_module_version": "1.5.0",
            "_view_name": "HTMLView",
            "description": "",
            "description_tooltip": null,
            "layout": "IPY_MODEL_406423c4202c4ce3abb98bd5fe63bfeb",
            "placeholder": "​",
            "style": "IPY_MODEL_cae2167a60064e54a590b9ccd214ead3",
            "value": " 30/30 [14:38&lt;00:00, 29.22s/it, loss=0.0763]"
          }
        },
        "1840486dad16401286624b3e40b87f8f": {
          "model_module": "@jupyter-widgets/base",
          "model_name": "LayoutModel",
          "model_module_version": "1.2.0",
          "state": {
            "_model_module": "@jupyter-widgets/base",
            "_model_module_version": "1.2.0",
            "_model_name": "LayoutModel",
            "_view_count": null,
            "_view_module": "@jupyter-widgets/base",
            "_view_module_version": "1.2.0",
            "_view_name": "LayoutView",
            "align_content": null,
            "align_items": null,
            "align_self": null,
            "border": null,
            "bottom": null,
            "display": null,
            "flex": null,
            "flex_flow": null,
            "grid_area": null,
            "grid_auto_columns": null,
            "grid_auto_flow": null,
            "grid_auto_rows": null,
            "grid_column": null,
            "grid_gap": null,
            "grid_row": null,
            "grid_template_areas": null,
            "grid_template_columns": null,
            "grid_template_rows": null,
            "height": null,
            "justify_content": null,
            "justify_items": null,
            "left": null,
            "margin": null,
            "max_height": null,
            "max_width": null,
            "min_height": null,
            "min_width": null,
            "object_fit": null,
            "object_position": null,
            "order": null,
            "overflow": null,
            "overflow_x": null,
            "overflow_y": null,
            "padding": null,
            "right": null,
            "top": null,
            "visibility": null,
            "width": null
          }
        },
        "2e77f26ed84c4923ae1fd75cd4847a39": {
          "model_module": "@jupyter-widgets/base",
          "model_name": "LayoutModel",
          "model_module_version": "1.2.0",
          "state": {
            "_model_module": "@jupyter-widgets/base",
            "_model_module_version": "1.2.0",
            "_model_name": "LayoutModel",
            "_view_count": null,
            "_view_module": "@jupyter-widgets/base",
            "_view_module_version": "1.2.0",
            "_view_name": "LayoutView",
            "align_content": null,
            "align_items": null,
            "align_self": null,
            "border": null,
            "bottom": null,
            "display": null,
            "flex": null,
            "flex_flow": null,
            "grid_area": null,
            "grid_auto_columns": null,
            "grid_auto_flow": null,
            "grid_auto_rows": null,
            "grid_column": null,
            "grid_gap": null,
            "grid_row": null,
            "grid_template_areas": null,
            "grid_template_columns": null,
            "grid_template_rows": null,
            "height": null,
            "justify_content": null,
            "justify_items": null,
            "left": null,
            "margin": null,
            "max_height": null,
            "max_width": null,
            "min_height": null,
            "min_width": null,
            "object_fit": null,
            "object_position": null,
            "order": null,
            "overflow": null,
            "overflow_x": null,
            "overflow_y": null,
            "padding": null,
            "right": null,
            "top": null,
            "visibility": null,
            "width": null
          }
        },
        "47c9550bc8a14943b5cb7c6cfbe0c15d": {
          "model_module": "@jupyter-widgets/controls",
          "model_name": "DescriptionStyleModel",
          "model_module_version": "1.5.0",
          "state": {
            "_model_module": "@jupyter-widgets/controls",
            "_model_module_version": "1.5.0",
            "_model_name": "DescriptionStyleModel",
            "_view_count": null,
            "_view_module": "@jupyter-widgets/base",
            "_view_module_version": "1.2.0",
            "_view_name": "StyleView",
            "description_width": ""
          }
        },
        "c592f0e1e0864a588d2b7260f9793f36": {
          "model_module": "@jupyter-widgets/base",
          "model_name": "LayoutModel",
          "model_module_version": "1.2.0",
          "state": {
            "_model_module": "@jupyter-widgets/base",
            "_model_module_version": "1.2.0",
            "_model_name": "LayoutModel",
            "_view_count": null,
            "_view_module": "@jupyter-widgets/base",
            "_view_module_version": "1.2.0",
            "_view_name": "LayoutView",
            "align_content": null,
            "align_items": null,
            "align_self": null,
            "border": null,
            "bottom": null,
            "display": null,
            "flex": null,
            "flex_flow": null,
            "grid_area": null,
            "grid_auto_columns": null,
            "grid_auto_flow": null,
            "grid_auto_rows": null,
            "grid_column": null,
            "grid_gap": null,
            "grid_row": null,
            "grid_template_areas": null,
            "grid_template_columns": null,
            "grid_template_rows": null,
            "height": null,
            "justify_content": null,
            "justify_items": null,
            "left": null,
            "margin": null,
            "max_height": null,
            "max_width": null,
            "min_height": null,
            "min_width": null,
            "object_fit": null,
            "object_position": null,
            "order": null,
            "overflow": null,
            "overflow_x": null,
            "overflow_y": null,
            "padding": null,
            "right": null,
            "top": null,
            "visibility": null,
            "width": null
          }
        },
        "bf46b6452ca848de81136422f7248452": {
          "model_module": "@jupyter-widgets/controls",
          "model_name": "ProgressStyleModel",
          "model_module_version": "1.5.0",
          "state": {
            "_model_module": "@jupyter-widgets/controls",
            "_model_module_version": "1.5.0",
            "_model_name": "ProgressStyleModel",
            "_view_count": null,
            "_view_module": "@jupyter-widgets/base",
            "_view_module_version": "1.2.0",
            "_view_name": "StyleView",
            "bar_color": null,
            "description_width": ""
          }
        },
        "406423c4202c4ce3abb98bd5fe63bfeb": {
          "model_module": "@jupyter-widgets/base",
          "model_name": "LayoutModel",
          "model_module_version": "1.2.0",
          "state": {
            "_model_module": "@jupyter-widgets/base",
            "_model_module_version": "1.2.0",
            "_model_name": "LayoutModel",
            "_view_count": null,
            "_view_module": "@jupyter-widgets/base",
            "_view_module_version": "1.2.0",
            "_view_name": "LayoutView",
            "align_content": null,
            "align_items": null,
            "align_self": null,
            "border": null,
            "bottom": null,
            "display": null,
            "flex": null,
            "flex_flow": null,
            "grid_area": null,
            "grid_auto_columns": null,
            "grid_auto_flow": null,
            "grid_auto_rows": null,
            "grid_column": null,
            "grid_gap": null,
            "grid_row": null,
            "grid_template_areas": null,
            "grid_template_columns": null,
            "grid_template_rows": null,
            "height": null,
            "justify_content": null,
            "justify_items": null,
            "left": null,
            "margin": null,
            "max_height": null,
            "max_width": null,
            "min_height": null,
            "min_width": null,
            "object_fit": null,
            "object_position": null,
            "order": null,
            "overflow": null,
            "overflow_x": null,
            "overflow_y": null,
            "padding": null,
            "right": null,
            "top": null,
            "visibility": null,
            "width": null
          }
        },
        "cae2167a60064e54a590b9ccd214ead3": {
          "model_module": "@jupyter-widgets/controls",
          "model_name": "DescriptionStyleModel",
          "model_module_version": "1.5.0",
          "state": {
            "_model_module": "@jupyter-widgets/controls",
            "_model_module_version": "1.5.0",
            "_model_name": "DescriptionStyleModel",
            "_view_count": null,
            "_view_module": "@jupyter-widgets/base",
            "_view_module_version": "1.2.0",
            "_view_name": "StyleView",
            "description_width": ""
          }
        }
      }
    }
  },
  "nbformat": 4,
  "nbformat_minor": 0
}