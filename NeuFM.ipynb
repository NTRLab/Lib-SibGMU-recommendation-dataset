{
  "cells": [
    {
      "cell_type": "code",
      "execution_count": 1,
      "metadata": {
        "collapsed": true,
        "id": "k3DbrltKQbVN",
        "colab": {
          "base_uri": "https://localhost:8080/"
        },
        "outputId": "9a5d62dd-abfc-4885-ea3b-8d5d1b409d4f"
      },
      "outputs": [
        {
          "output_type": "stream",
          "name": "stdout",
          "text": [
            "Looking in indexes: https://pypi.org/simple, https://us-python.pkg.dev/colab-wheels/public/simple/\n",
            "Requirement already satisfied: tensorflow==1.15 in /usr/local/lib/python3.7/dist-packages (1.15.0)\n",
            "Requirement already satisfied: cornac in /usr/local/lib/python3.7/dist-packages (1.14.2)\n",
            "Requirement already satisfied: gast==0.2.2 in /usr/local/lib/python3.7/dist-packages (from tensorflow==1.15) (0.2.2)\n",
            "Requirement already satisfied: opt-einsum>=2.3.2 in /usr/local/lib/python3.7/dist-packages (from tensorflow==1.15) (3.3.0)\n",
            "Requirement already satisfied: termcolor>=1.1.0 in /usr/local/lib/python3.7/dist-packages (from tensorflow==1.15) (1.1.0)\n",
            "Requirement already satisfied: six>=1.10.0 in /usr/local/lib/python3.7/dist-packages (from tensorflow==1.15) (1.15.0)\n",
            "Requirement already satisfied: keras-applications>=1.0.8 in /usr/local/lib/python3.7/dist-packages (from tensorflow==1.15) (1.0.8)\n",
            "Requirement already satisfied: tensorflow-estimator==1.15.1 in /usr/local/lib/python3.7/dist-packages (from tensorflow==1.15) (1.15.1)\n",
            "Requirement already satisfied: google-pasta>=0.1.6 in /usr/local/lib/python3.7/dist-packages (from tensorflow==1.15) (0.2.0)\n",
            "Requirement already satisfied: grpcio>=1.8.6 in /usr/local/lib/python3.7/dist-packages (from tensorflow==1.15) (1.46.3)\n",
            "Requirement already satisfied: numpy<2.0,>=1.16.0 in /usr/local/lib/python3.7/dist-packages (from tensorflow==1.15) (1.21.6)\n",
            "Requirement already satisfied: wheel>=0.26 in /usr/local/lib/python3.7/dist-packages (from tensorflow==1.15) (0.37.1)\n",
            "Requirement already satisfied: protobuf>=3.6.1 in /usr/local/lib/python3.7/dist-packages (from tensorflow==1.15) (3.17.3)\n",
            "Requirement already satisfied: tensorboard<1.16.0,>=1.15.0 in /usr/local/lib/python3.7/dist-packages (from tensorflow==1.15) (1.15.0)\n",
            "Requirement already satisfied: wrapt>=1.11.1 in /usr/local/lib/python3.7/dist-packages (from tensorflow==1.15) (1.14.1)\n",
            "Requirement already satisfied: absl-py>=0.7.0 in /usr/local/lib/python3.7/dist-packages (from tensorflow==1.15) (1.0.0)\n",
            "Requirement already satisfied: astor>=0.6.0 in /usr/local/lib/python3.7/dist-packages (from tensorflow==1.15) (0.8.1)\n",
            "Requirement already satisfied: keras-preprocessing>=1.0.5 in /usr/local/lib/python3.7/dist-packages (from tensorflow==1.15) (1.1.2)\n",
            "Requirement already satisfied: h5py in /usr/local/lib/python3.7/dist-packages (from keras-applications>=1.0.8->tensorflow==1.15) (3.1.0)\n",
            "Requirement already satisfied: werkzeug>=0.11.15 in /usr/local/lib/python3.7/dist-packages (from tensorboard<1.16.0,>=1.15.0->tensorflow==1.15) (1.0.1)\n",
            "Requirement already satisfied: markdown>=2.6.8 in /usr/local/lib/python3.7/dist-packages (from tensorboard<1.16.0,>=1.15.0->tensorflow==1.15) (3.3.7)\n",
            "Requirement already satisfied: setuptools>=41.0.0 in /usr/local/lib/python3.7/dist-packages (from tensorboard<1.16.0,>=1.15.0->tensorflow==1.15) (57.4.0)\n",
            "Requirement already satisfied: importlib-metadata>=4.4 in /usr/local/lib/python3.7/dist-packages (from markdown>=2.6.8->tensorboard<1.16.0,>=1.15.0->tensorflow==1.15) (4.11.4)\n",
            "Requirement already satisfied: zipp>=0.5 in /usr/local/lib/python3.7/dist-packages (from importlib-metadata>=4.4->markdown>=2.6.8->tensorboard<1.16.0,>=1.15.0->tensorflow==1.15) (3.8.0)\n",
            "Requirement already satisfied: typing-extensions>=3.6.4 in /usr/local/lib/python3.7/dist-packages (from importlib-metadata>=4.4->markdown>=2.6.8->tensorboard<1.16.0,>=1.15.0->tensorflow==1.15) (4.2.0)\n",
            "Requirement already satisfied: powerlaw in /usr/local/lib/python3.7/dist-packages (from cornac) (1.5)\n",
            "Requirement already satisfied: tqdm>=4.19 in /usr/local/lib/python3.7/dist-packages (from cornac) (4.64.0)\n",
            "Requirement already satisfied: scipy in /usr/local/lib/python3.7/dist-packages (from cornac) (1.4.1)\n",
            "Requirement already satisfied: cached-property in /usr/local/lib/python3.7/dist-packages (from h5py->keras-applications>=1.0.8->tensorflow==1.15) (1.5.2)\n",
            "Requirement already satisfied: mpmath in /usr/local/lib/python3.7/dist-packages (from powerlaw->cornac) (1.2.1)\n",
            "Requirement already satisfied: matplotlib in /usr/local/lib/python3.7/dist-packages (from powerlaw->cornac) (3.2.2)\n",
            "Requirement already satisfied: pyparsing!=2.0.4,!=2.1.2,!=2.1.6,>=2.0.1 in /usr/local/lib/python3.7/dist-packages (from matplotlib->powerlaw->cornac) (3.0.9)\n",
            "Requirement already satisfied: python-dateutil>=2.1 in /usr/local/lib/python3.7/dist-packages (from matplotlib->powerlaw->cornac) (2.8.2)\n",
            "Requirement already satisfied: cycler>=0.10 in /usr/local/lib/python3.7/dist-packages (from matplotlib->powerlaw->cornac) (0.11.0)\n",
            "Requirement already satisfied: kiwisolver>=1.0.1 in /usr/local/lib/python3.7/dist-packages (from matplotlib->powerlaw->cornac) (1.4.2)\n"
          ]
        }
      ],
      "source": [
        "!pip install tensorflow==1.15 cornac"
      ]
    },
    {
      "cell_type": "code",
      "execution_count": 17,
      "metadata": {
        "id": "3-nDFhzvSXuj"
      },
      "outputs": [],
      "source": [
        "import cornac\n",
        "import pickle\n",
        "import itertools\n",
        "import numpy as np\n",
        "import pandas as pd\n",
        "\n",
        "from scipy.sparse import csr_matrix\n",
        "from sklearn.preprocessing import normalize\n",
        "from collections import OrderedDict, defaultdict"
      ]
    },
    {
      "cell_type": "markdown",
      "metadata": {
        "id": "ZDwV6P465d20"
      },
      "source": [
        "### Load data and preprocessing"
      ]
    },
    {
      "cell_type": "code",
      "execution_count": 3,
      "metadata": {
        "id": "blKoNjqhS2kq"
      },
      "outputs": [],
      "source": [
        "name_books = pd.read_csv('books.csv')\n",
        "train = pd.read_csv('train.csv', index_col=False)\n",
        "test = pd.read_csv('test.csv', index_col=False)"
      ]
    },
    {
      "cell_type": "code",
      "execution_count": 4,
      "metadata": {
        "id": "RlR3R9UC0zEX"
      },
      "outputs": [],
      "source": [
        "test = test.sort_values(by=['id', 'date'])\n",
        "test = test.groupby('id').last().reset_index()"
      ]
    },
    {
      "cell_type": "code",
      "execution_count": 5,
      "metadata": {
        "id": "cmlzlOJzTGmk"
      },
      "outputs": [],
      "source": [
        "users = pd.concat([train[['id']], test[['id']]], \n",
        "                  ignore_index=True)\n",
        "users.id = users.id.astype('category')\n",
        "users['category_id'] = users.id.cat.codes\n",
        "\n",
        "books = pd.concat([train[['id_book']], test[['id_book']]], \n",
        "                  ignore_index=True)\n",
        "\n",
        "books.id_book = books.id_book.astype('category')\n",
        "books['category_book'] = books.id_book.cat.codes"
      ]
    },
    {
      "cell_type": "markdown",
      "metadata": {
        "id": "xTcgrqT15d23"
      },
      "source": [
        "### Train and test split"
      ]
    },
    {
      "cell_type": "code",
      "execution_count": 6,
      "metadata": {
        "id": "5DMfnYwKTGs9"
      },
      "outputs": [],
      "source": [
        "train = pd.merge(train, users, left_on='id', right_on='id', \n",
        "                 how='inner').drop_duplicates()\n",
        "test = pd.merge(test, users, left_on='id', right_on='id', \n",
        "                how='inner').drop_duplicates()"
      ]
    },
    {
      "cell_type": "code",
      "execution_count": 7,
      "metadata": {
        "id": "fR4_AAeNTM7H"
      },
      "outputs": [],
      "source": [
        "train = pd.merge(train, books, left_on='id_book', right_on='id_book', how='inner').drop_duplicates()\n",
        "test = pd.merge(test, books, left_on='id_book', right_on='id_book', how='inner').drop_duplicates()"
      ]
    },
    {
      "cell_type": "code",
      "execution_count": 8,
      "metadata": {
        "colab": {
          "base_uri": "https://localhost:8080/"
        },
        "id": "xYlq3ie9A3Km",
        "outputId": "d8c723f5-62eb-4966-80d9-11c62d315cf6"
      },
      "outputs": [
        {
          "output_type": "stream",
          "name": "stdout",
          "text": [
            "train:\t\t121506\n",
            "test:\t\t1342\n"
          ]
        }
      ],
      "source": [
        "print(f'train:\\t\\t{train.shape[0]}\\ntest:\\t\\t{test.shape[0]}')"
      ]
    },
    {
      "cell_type": "markdown",
      "metadata": {
        "id": "LfiSTuWo5d26"
      },
      "source": [
        "### Helper functions"
      ]
    },
    {
      "cell_type": "code",
      "execution_count": 9,
      "metadata": {
        "id": "QUdhH1dIS2XK"
      },
      "outputs": [],
      "source": [
        "def to_cornac_ds(ds):\n",
        "    \"\"\"\n",
        "    Convert dataset into cornac format\n",
        "    \"\"\"\n",
        "    ds_user_num = ds.category_id.max() + 1\n",
        "    ds_book_num = ds.category_book.max() + 1\n",
        "    \n",
        "    uid_map = ds[['id', 'category_id']].to_dict(\n",
        "        into=OrderedDict, orient='index')\n",
        "    iid_map = ds[['id_book', 'category_book']].to_dict(\n",
        "        into=OrderedDict, orient='index')\n",
        "  \n",
        "    cat_users = ds.category_id.values\n",
        "    cat_books = ds.category_book.values\n",
        "    interact = np.full((1, cat_users.shape[0]), 1)\n",
        "  \n",
        "    uir_tuple = (cat_users, cat_books, interact)\n",
        "\n",
        "    cornac_ds = cornac.data.Dataset(num_users=ds_user_num,\n",
        "                                    num_items=ds_book_num,\n",
        "                                    uid_map=uid_map,\n",
        "                                    iid_map=iid_map,\n",
        "                                    uir_tuple=uir_tuple)\n",
        "    return cornac_ds"
      ]
    },
    {
      "cell_type": "code",
      "execution_count": 10,
      "metadata": {
        "id": "9KmPqyOT5d27"
      },
      "outputs": [],
      "source": [
        "def apk(actual, predicted, k=10):\n",
        "    \"\"\"\n",
        "    Average precison at k\n",
        "    \"\"\"\n",
        "    if len(predicted)>k:\n",
        "        predicted = predicted[:k]\n",
        "\n",
        "    score = 0.0\n",
        "    num_hits = 0.0\n",
        "\n",
        "    for i,p in enumerate(predicted):\n",
        "        if p in actual and p not in predicted[:i]:\n",
        "            num_hits += 1.0\n",
        "            score += num_hits / (i+1.0)\n",
        "\n",
        "    if not actual:\n",
        "        return 0.0\n",
        "\n",
        "    return score\n",
        "\n",
        "def mapk(actual, predicted, k=10):\n",
        "    \"\"\"\n",
        "    Mean average precison at k\n",
        "    \"\"\"\n",
        "    return np.mean([apk(a,p,k) for a,p in zip(actual, predicted)])"
      ]
    },
    {
      "cell_type": "code",
      "execution_count": 11,
      "metadata": {
        "id": "9DUtaeqSUqxc"
      },
      "outputs": [],
      "source": [
        "def hit_rate_als(model, test, n):\n",
        "    \"\"\"\n",
        "    Count hit rate for ALS\n",
        "    \"\"\"\n",
        "    users = test.category_id.unique()\n",
        "    score = 0\n",
        "    \n",
        "    for user in users: \n",
        "        preds = model.score(int(user)).argsort()[::-1][:n]\n",
        "        actual = test[test.category_id == user]['category_book'].values.tolist()\n",
        "\n",
        "        hit = len(set(actual) & set(preds))\n",
        "        if hit > 0:\n",
        "            score += 1\n",
        "        hit_rate = score / users.shape[0]\n",
        "      \n",
        "    return hit_rate"
      ]
    },
    {
      "cell_type": "code",
      "execution_count": 12,
      "metadata": {
        "id": "r_sdVYm6XOst"
      },
      "outputs": [],
      "source": [
        "def map_als(model, test, n):\n",
        "    \"\"\"\n",
        "    Count mean average precision for ALS\n",
        "    \"\"\"\n",
        "    users = test.category_id.unique()\n",
        "    score = 0\n",
        "    actuals = []\n",
        "    preds = []\n",
        "\n",
        "    for user in users:\n",
        "        actual = []\n",
        "        pred = model.score(int(user)).argsort()[::-1][:n]\n",
        "        actual.append(test[test.category_id == user].iloc[-1]['category_book'])\n",
        "        \n",
        "        actuals.append(actual)\n",
        "        preds.append(pred)\n",
        "      \n",
        "    return actuals, preds"
      ]
    },
    {
      "cell_type": "markdown",
      "metadata": {
        "id": "Fly3uQ6e5d28"
      },
      "source": [
        "### Train model"
      ]
    },
    {
      "cell_type": "code",
      "execution_count": 20,
      "metadata": {
        "id": "zB0APtXSSbGB"
      },
      "outputs": [],
      "source": [
        "train_nfm = to_cornac_ds(train)"
      ]
    },
    {
      "cell_type": "code",
      "execution_count": 23,
      "metadata": {
        "colab": {
          "base_uri": "https://localhost:8080/",
          "height": 66,
          "referenced_widgets": [
            "49d8be99e0f54770a877948851ed79a8",
            "aadf61931e514f58922b4827f3fba27f",
            "f291bb8a4b424f24a11a4f5fba3f2fca",
            "a9fe256a97ab484a9492979fe43788a1",
            "91d87e3fd2c84d72a992779ec2bdddd4",
            "99d0494cacea46749bfeb1b0b05aa768",
            "e787f137f2c349cda817a7d68510524d",
            "aa796ae350024e95945c2773c14534e4",
            "c205d31bb4c14bc2891885f02425f9d9",
            "b6bbe4f82c284eae9cec372fbb159a27",
            "ae490c81823845ac8fc441d55d01e588"
          ]
        },
        "id": "IsuHIt3YThA3",
        "outputId": "df96fa1e-d226-4775-e7c8-bd4382cd41be"
      },
      "outputs": [
        {
          "output_type": "display_data",
          "data": {
            "text/plain": [
              "  0%|          | 0/30 [00:00<?, ?it/s]"
            ],
            "application/vnd.jupyter.widget-view+json": {
              "version_major": 2,
              "version_minor": 0,
              "model_id": "49d8be99e0f54770a877948851ed79a8"
            }
          },
          "metadata": {}
        },
        {
          "output_type": "execute_result",
          "data": {
            "text/plain": [
              "<cornac.models.ncf.recom_neumf.NeuMF at 0x7f4119515c10>"
            ]
          },
          "metadata": {},
          "execution_count": 23
        }
      ],
      "source": [
        "model = cornac.models.NeuMF(\n",
        "    num_factors=10,\n",
        "    num_neg=10,\n",
        "    num_epochs=30,\n",
        "    seed=123)\n",
        "\n",
        "model.fit(train_nfm)"
      ]
    },
    {
      "cell_type": "code",
      "execution_count": 25,
      "metadata": {
        "id": "vA4jc7zhUP0W",
        "colab": {
          "base_uri": "https://localhost:8080/"
        },
        "outputId": "6b864f07-8cab-439b-d9ce-3f563eaee8fd"
      },
      "outputs": [
        {
          "output_type": "stream",
          "name": "stdout",
          "text": [
            "NeuFM model\n",
            "Hit Rate@1:\t0.02161\n",
            "Hit Rate@5:\t0.14382\n",
            "Hit Rate@10:\t0.28763\n",
            "MAP@1:\t0.021609538002980627\n",
            "MAP@2:\t0.037257824143070044\n",
            "MAP@5:\t0.06162444113263785\n",
            "MAP@10:\t0.08032165921510184\n"
          ]
        }
      ],
      "source": [
        "print('NeuFM model')\n",
        "for n in [1, 5, 10]:\n",
        "  hr = round(hit_rate_als(model, test, n), 5)\n",
        "  print(f'Hit Rate@{n}:\\t{hr}')\n",
        "\n",
        "y_true, y_pred = map_als(model, test, 10)\n",
        "for k in [1,2,5,10]:\n",
        "  print(f\"MAP@{k}:\\t{mapk(y_true, y_pred, k=k)}\")"
      ]
    },
    {
      "cell_type": "code",
      "execution_count": null,
      "metadata": {
        "id": "kzJFIuDA-v5Q"
      },
      "outputs": [],
      "source": [
        ""
      ]
    }
  ],
  "metadata": {
    "colab": {
      "collapsed_sections": [],
      "name": "NeuFM.ipynb",
      "provenance": []
    },
    "kernelspec": {
      "display_name": "flask_bk",
      "language": "python",
      "name": "flask_bk"
    },
    "language_info": {
      "codemirror_mode": {
        "name": "ipython",
        "version": 3
      },
      "file_extension": ".py",
      "mimetype": "text/x-python",
      "name": "python",
      "nbconvert_exporter": "python",
      "pygments_lexer": "ipython3",
      "version": "3.7.0"
    },
    "widgets": {
      "application/vnd.jupyter.widget-state+json": {
        "49d8be99e0f54770a877948851ed79a8": {
          "model_module": "@jupyter-widgets/controls",
          "model_name": "HBoxModel",
          "model_module_version": "1.5.0",
          "state": {
            "_dom_classes": [],
            "_model_module": "@jupyter-widgets/controls",
            "_model_module_version": "1.5.0",
            "_model_name": "HBoxModel",
            "_view_count": null,
            "_view_module": "@jupyter-widgets/controls",
            "_view_module_version": "1.5.0",
            "_view_name": "HBoxView",
            "box_style": "",
            "children": [
              "IPY_MODEL_aadf61931e514f58922b4827f3fba27f",
              "IPY_MODEL_f291bb8a4b424f24a11a4f5fba3f2fca",
              "IPY_MODEL_a9fe256a97ab484a9492979fe43788a1"
            ],
            "layout": "IPY_MODEL_91d87e3fd2c84d72a992779ec2bdddd4"
          }
        },
        "aadf61931e514f58922b4827f3fba27f": {
          "model_module": "@jupyter-widgets/controls",
          "model_name": "HTMLModel",
          "model_module_version": "1.5.0",
          "state": {
            "_dom_classes": [],
            "_model_module": "@jupyter-widgets/controls",
            "_model_module_version": "1.5.0",
            "_model_name": "HTMLModel",
            "_view_count": null,
            "_view_module": "@jupyter-widgets/controls",
            "_view_module_version": "1.5.0",
            "_view_name": "HTMLView",
            "description": "",
            "description_tooltip": null,
            "layout": "IPY_MODEL_99d0494cacea46749bfeb1b0b05aa768",
            "placeholder": "​",
            "style": "IPY_MODEL_e787f137f2c349cda817a7d68510524d",
            "value": "100%"
          }
        },
        "f291bb8a4b424f24a11a4f5fba3f2fca": {
          "model_module": "@jupyter-widgets/controls",
          "model_name": "FloatProgressModel",
          "model_module_version": "1.5.0",
          "state": {
            "_dom_classes": [],
            "_model_module": "@jupyter-widgets/controls",
            "_model_module_version": "1.5.0",
            "_model_name": "FloatProgressModel",
            "_view_count": null,
            "_view_module": "@jupyter-widgets/controls",
            "_view_module_version": "1.5.0",
            "_view_name": "ProgressView",
            "bar_style": "success",
            "description": "",
            "description_tooltip": null,
            "layout": "IPY_MODEL_aa796ae350024e95945c2773c14534e4",
            "max": 30,
            "min": 0,
            "orientation": "horizontal",
            "style": "IPY_MODEL_c205d31bb4c14bc2891885f02425f9d9",
            "value": 30
          }
        },
        "a9fe256a97ab484a9492979fe43788a1": {
          "model_module": "@jupyter-widgets/controls",
          "model_name": "HTMLModel",
          "model_module_version": "1.5.0",
          "state": {
            "_dom_classes": [],
            "_model_module": "@jupyter-widgets/controls",
            "_model_module_version": "1.5.0",
            "_model_name": "HTMLModel",
            "_view_count": null,
            "_view_module": "@jupyter-widgets/controls",
            "_view_module_version": "1.5.0",
            "_view_name": "HTMLView",
            "description": "",
            "description_tooltip": null,
            "layout": "IPY_MODEL_b6bbe4f82c284eae9cec372fbb159a27",
            "placeholder": "​",
            "style": "IPY_MODEL_ae490c81823845ac8fc441d55d01e588",
            "value": " 30/30 [16:05&lt;00:00, 31.58s/it, loss=0.0763]"
          }
        },
        "91d87e3fd2c84d72a992779ec2bdddd4": {
          "model_module": "@jupyter-widgets/base",
          "model_name": "LayoutModel",
          "model_module_version": "1.2.0",
          "state": {
            "_model_module": "@jupyter-widgets/base",
            "_model_module_version": "1.2.0",
            "_model_name": "LayoutModel",
            "_view_count": null,
            "_view_module": "@jupyter-widgets/base",
            "_view_module_version": "1.2.0",
            "_view_name": "LayoutView",
            "align_content": null,
            "align_items": null,
            "align_self": null,
            "border": null,
            "bottom": null,
            "display": null,
            "flex": null,
            "flex_flow": null,
            "grid_area": null,
            "grid_auto_columns": null,
            "grid_auto_flow": null,
            "grid_auto_rows": null,
            "grid_column": null,
            "grid_gap": null,
            "grid_row": null,
            "grid_template_areas": null,
            "grid_template_columns": null,
            "grid_template_rows": null,
            "height": null,
            "justify_content": null,
            "justify_items": null,
            "left": null,
            "margin": null,
            "max_height": null,
            "max_width": null,
            "min_height": null,
            "min_width": null,
            "object_fit": null,
            "object_position": null,
            "order": null,
            "overflow": null,
            "overflow_x": null,
            "overflow_y": null,
            "padding": null,
            "right": null,
            "top": null,
            "visibility": null,
            "width": null
          }
        },
        "99d0494cacea46749bfeb1b0b05aa768": {
          "model_module": "@jupyter-widgets/base",
          "model_name": "LayoutModel",
          "model_module_version": "1.2.0",
          "state": {
            "_model_module": "@jupyter-widgets/base",
            "_model_module_version": "1.2.0",
            "_model_name": "LayoutModel",
            "_view_count": null,
            "_view_module": "@jupyter-widgets/base",
            "_view_module_version": "1.2.0",
            "_view_name": "LayoutView",
            "align_content": null,
            "align_items": null,
            "align_self": null,
            "border": null,
            "bottom": null,
            "display": null,
            "flex": null,
            "flex_flow": null,
            "grid_area": null,
            "grid_auto_columns": null,
            "grid_auto_flow": null,
            "grid_auto_rows": null,
            "grid_column": null,
            "grid_gap": null,
            "grid_row": null,
            "grid_template_areas": null,
            "grid_template_columns": null,
            "grid_template_rows": null,
            "height": null,
            "justify_content": null,
            "justify_items": null,
            "left": null,
            "margin": null,
            "max_height": null,
            "max_width": null,
            "min_height": null,
            "min_width": null,
            "object_fit": null,
            "object_position": null,
            "order": null,
            "overflow": null,
            "overflow_x": null,
            "overflow_y": null,
            "padding": null,
            "right": null,
            "top": null,
            "visibility": null,
            "width": null
          }
        },
        "e787f137f2c349cda817a7d68510524d": {
          "model_module": "@jupyter-widgets/controls",
          "model_name": "DescriptionStyleModel",
          "model_module_version": "1.5.0",
          "state": {
            "_model_module": "@jupyter-widgets/controls",
            "_model_module_version": "1.5.0",
            "_model_name": "DescriptionStyleModel",
            "_view_count": null,
            "_view_module": "@jupyter-widgets/base",
            "_view_module_version": "1.2.0",
            "_view_name": "StyleView",
            "description_width": ""
          }
        },
        "aa796ae350024e95945c2773c14534e4": {
          "model_module": "@jupyter-widgets/base",
          "model_name": "LayoutModel",
          "model_module_version": "1.2.0",
          "state": {
            "_model_module": "@jupyter-widgets/base",
            "_model_module_version": "1.2.0",
            "_model_name": "LayoutModel",
            "_view_count": null,
            "_view_module": "@jupyter-widgets/base",
            "_view_module_version": "1.2.0",
            "_view_name": "LayoutView",
            "align_content": null,
            "align_items": null,
            "align_self": null,
            "border": null,
            "bottom": null,
            "display": null,
            "flex": null,
            "flex_flow": null,
            "grid_area": null,
            "grid_auto_columns": null,
            "grid_auto_flow": null,
            "grid_auto_rows": null,
            "grid_column": null,
            "grid_gap": null,
            "grid_row": null,
            "grid_template_areas": null,
            "grid_template_columns": null,
            "grid_template_rows": null,
            "height": null,
            "justify_content": null,
            "justify_items": null,
            "left": null,
            "margin": null,
            "max_height": null,
            "max_width": null,
            "min_height": null,
            "min_width": null,
            "object_fit": null,
            "object_position": null,
            "order": null,
            "overflow": null,
            "overflow_x": null,
            "overflow_y": null,
            "padding": null,
            "right": null,
            "top": null,
            "visibility": null,
            "width": null
          }
        },
        "c205d31bb4c14bc2891885f02425f9d9": {
          "model_module": "@jupyter-widgets/controls",
          "model_name": "ProgressStyleModel",
          "model_module_version": "1.5.0",
          "state": {
            "_model_module": "@jupyter-widgets/controls",
            "_model_module_version": "1.5.0",
            "_model_name": "ProgressStyleModel",
            "_view_count": null,
            "_view_module": "@jupyter-widgets/base",
            "_view_module_version": "1.2.0",
            "_view_name": "StyleView",
            "bar_color": null,
            "description_width": ""
          }
        },
        "b6bbe4f82c284eae9cec372fbb159a27": {
          "model_module": "@jupyter-widgets/base",
          "model_name": "LayoutModel",
          "model_module_version": "1.2.0",
          "state": {
            "_model_module": "@jupyter-widgets/base",
            "_model_module_version": "1.2.0",
            "_model_name": "LayoutModel",
            "_view_count": null,
            "_view_module": "@jupyter-widgets/base",
            "_view_module_version": "1.2.0",
            "_view_name": "LayoutView",
            "align_content": null,
            "align_items": null,
            "align_self": null,
            "border": null,
            "bottom": null,
            "display": null,
            "flex": null,
            "flex_flow": null,
            "grid_area": null,
            "grid_auto_columns": null,
            "grid_auto_flow": null,
            "grid_auto_rows": null,
            "grid_column": null,
            "grid_gap": null,
            "grid_row": null,
            "grid_template_areas": null,
            "grid_template_columns": null,
            "grid_template_rows": null,
            "height": null,
            "justify_content": null,
            "justify_items": null,
            "left": null,
            "margin": null,
            "max_height": null,
            "max_width": null,
            "min_height": null,
            "min_width": null,
            "object_fit": null,
            "object_position": null,
            "order": null,
            "overflow": null,
            "overflow_x": null,
            "overflow_y": null,
            "padding": null,
            "right": null,
            "top": null,
            "visibility": null,
            "width": null
          }
        },
        "ae490c81823845ac8fc441d55d01e588": {
          "model_module": "@jupyter-widgets/controls",
          "model_name": "DescriptionStyleModel",
          "model_module_version": "1.5.0",
          "state": {
            "_model_module": "@jupyter-widgets/controls",
            "_model_module_version": "1.5.0",
            "_model_name": "DescriptionStyleModel",
            "_view_count": null,
            "_view_module": "@jupyter-widgets/base",
            "_view_module_version": "1.2.0",
            "_view_name": "StyleView",
            "description_width": ""
          }
        }
      }
    }
  },
  "nbformat": 4,
  "nbformat_minor": 0
}